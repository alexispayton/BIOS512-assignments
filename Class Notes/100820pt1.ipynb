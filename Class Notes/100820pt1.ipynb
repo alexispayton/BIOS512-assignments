{
 "cells": [
  {
   "cell_type": "code",
   "execution_count": 1,
   "metadata": {},
   "outputs": [
    {
     "name": "stderr",
     "output_type": "stream",
     "text": [
      "Warning message:\n",
      "“replacing previous import ‘vctrs::data_frame’ by ‘tibble::data_frame’ when loading ‘dplyr’”\n",
      "── \u001b[1mAttaching packages\u001b[22m ─────────────────────────────────────── tidyverse 1.3.0 ──\n",
      "\n",
      "\u001b[32m✔\u001b[39m \u001b[34mggplot2\u001b[39m 3.3.2     \u001b[32m✔\u001b[39m \u001b[34mpurrr  \u001b[39m 0.3.4\n",
      "\u001b[32m✔\u001b[39m \u001b[34mtibble \u001b[39m 3.0.4     \u001b[32m✔\u001b[39m \u001b[34mdplyr  \u001b[39m 1.0.1\n",
      "\u001b[32m✔\u001b[39m \u001b[34mtidyr  \u001b[39m 1.1.1     \u001b[32m✔\u001b[39m \u001b[34mstringr\u001b[39m 1.4.0\n",
      "\u001b[32m✔\u001b[39m \u001b[34mreadr  \u001b[39m 1.3.1     \u001b[32m✔\u001b[39m \u001b[34mforcats\u001b[39m 0.5.0\n",
      "\n",
      "Warning message:\n",
      "“package ‘ggplot2’ was built under R version 4.0.1”\n",
      "Warning message:\n",
      "“package ‘tidyr’ was built under R version 4.0.2”\n",
      "Warning message:\n",
      "“package ‘dplyr’ was built under R version 4.0.2”\n",
      "── \u001b[1mConflicts\u001b[22m ────────────────────────────────────────── tidyverse_conflicts() ──\n",
      "\u001b[31m✖\u001b[39m \u001b[34mdplyr\u001b[39m::\u001b[32mfilter()\u001b[39m masks \u001b[34mstats\u001b[39m::filter()\n",
      "\u001b[31m✖\u001b[39m \u001b[34mdplyr\u001b[39m::\u001b[32mlag()\u001b[39m    masks \u001b[34mstats\u001b[39m::lag()\n",
      "\n"
     ]
    }
   ],
   "source": [
    "library('tidyverse')"
   ]
  },
  {
   "cell_type": "code",
   "execution_count": 2,
   "metadata": {},
   "outputs": [
    {
     "data": {
      "text/html": [
       "<table>\n",
       "<caption>A data.frame: 6 × 7</caption>\n",
       "<thead>\n",
       "\t<tr><th></th><th scope=col>year</th><th scope=col>name</th><th scope=col>country</th><th scope=col>time</th><th scope=col>race.time</th><th scope=col>MF</th><th scope=col>country.simple</th></tr>\n",
       "\t<tr><th></th><th scope=col>&lt;int&gt;</th><th scope=col>&lt;chr&gt;</th><th scope=col>&lt;chr&gt;</th><th scope=col>&lt;chr&gt;</th><th scope=col>&lt;dbl&gt;</th><th scope=col>&lt;chr&gt;</th><th scope=col>&lt;chr&gt;</th></tr>\n",
       "</thead>\n",
       "<tbody>\n",
       "\t<tr><th scope=row>1</th><td>2019</td><td>Lawrence Cherono          </td><td>Kenya        </td><td>2H 7M 57S </td><td>2.132500</td><td>Men's</td><td>Kenya        </td></tr>\n",
       "\t<tr><th scope=row>2</th><td>2018</td><td>Yuki Kawauchi             </td><td>Japan        </td><td>2H 15M 58S</td><td>2.266111</td><td>Men's</td><td>Japan        </td></tr>\n",
       "\t<tr><th scope=row>3</th><td>2017</td><td>Geoffrey Kirui            </td><td>Kenya        </td><td>2H 9M 37S </td><td>2.160278</td><td>Men's</td><td>Kenya        </td></tr>\n",
       "\t<tr><th scope=row>4</th><td>2016</td><td>Lemi Berhanu              </td><td>Ethiopia     </td><td>2H 12M 45S</td><td>2.212500</td><td>Men's</td><td>Ethiopia     </td></tr>\n",
       "\t<tr><th scope=row>5</th><td>2015</td><td>Lelisa Desisa             </td><td>Ethiopia     </td><td>2H 9M 17S </td><td>2.154722</td><td>Men's</td><td>Ethiopia     </td></tr>\n",
       "\t<tr><th scope=row>6</th><td>2014</td><td>Mebrahtom \"Meb\" Keflezighi</td><td>United States</td><td>2H 8M 37S </td><td>2.143611</td><td>Men's</td><td>United States</td></tr>\n",
       "</tbody>\n",
       "</table>\n"
      ],
      "text/latex": [
       "A data.frame: 6 × 7\n",
       "\\begin{tabular}{r|lllllll}\n",
       "  & year & name & country & time & race.time & MF & country.simple\\\\\n",
       "  & <int> & <chr> & <chr> & <chr> & <dbl> & <chr> & <chr>\\\\\n",
       "\\hline\n",
       "\t1 & 2019 & Lawrence Cherono           & Kenya         & 2H 7M 57S  & 2.132500 & Men's & Kenya        \\\\\n",
       "\t2 & 2018 & Yuki Kawauchi              & Japan         & 2H 15M 58S & 2.266111 & Men's & Japan        \\\\\n",
       "\t3 & 2017 & Geoffrey Kirui             & Kenya         & 2H 9M 37S  & 2.160278 & Men's & Kenya        \\\\\n",
       "\t4 & 2016 & Lemi Berhanu               & Ethiopia      & 2H 12M 45S & 2.212500 & Men's & Ethiopia     \\\\\n",
       "\t5 & 2015 & Lelisa Desisa              & Ethiopia      & 2H 9M 17S  & 2.154722 & Men's & Ethiopia     \\\\\n",
       "\t6 & 2014 & Mebrahtom \"Meb\" Keflezighi & United States & 2H 8M 37S  & 2.143611 & Men's & United States\\\\\n",
       "\\end{tabular}\n"
      ],
      "text/markdown": [
       "\n",
       "A data.frame: 6 × 7\n",
       "\n",
       "| <!--/--> | year &lt;int&gt; | name &lt;chr&gt; | country &lt;chr&gt; | time &lt;chr&gt; | race.time &lt;dbl&gt; | MF &lt;chr&gt; | country.simple &lt;chr&gt; |\n",
       "|---|---|---|---|---|---|---|---|\n",
       "| 1 | 2019 | Lawrence Cherono           | Kenya         | 2H 7M 57S  | 2.132500 | Men's | Kenya         |\n",
       "| 2 | 2018 | Yuki Kawauchi              | Japan         | 2H 15M 58S | 2.266111 | Men's | Japan         |\n",
       "| 3 | 2017 | Geoffrey Kirui             | Kenya         | 2H 9M 37S  | 2.160278 | Men's | Kenya         |\n",
       "| 4 | 2016 | Lemi Berhanu               | Ethiopia      | 2H 12M 45S | 2.212500 | Men's | Ethiopia      |\n",
       "| 5 | 2015 | Lelisa Desisa              | Ethiopia      | 2H 9M 17S  | 2.154722 | Men's | Ethiopia      |\n",
       "| 6 | 2014 | Mebrahtom \"Meb\" Keflezighi | United States | 2H 8M 37S  | 2.143611 | Men's | United States |\n",
       "\n"
      ],
      "text/plain": [
       "  year name                       country       time       race.time MF   \n",
       "1 2019 Lawrence Cherono           Kenya         2H 7M 57S  2.132500  Men's\n",
       "2 2018 Yuki Kawauchi              Japan         2H 15M 58S 2.266111  Men's\n",
       "3 2017 Geoffrey Kirui             Kenya         2H 9M 37S  2.160278  Men's\n",
       "4 2016 Lemi Berhanu               Ethiopia      2H 12M 45S 2.212500  Men's\n",
       "5 2015 Lelisa Desisa              Ethiopia      2H 9M 17S  2.154722  Men's\n",
       "6 2014 Mebrahtom \"Meb\" Keflezighi United States 2H 8M 37S  2.143611  Men's\n",
       "  country.simple\n",
       "1 Kenya         \n",
       "2 Japan         \n",
       "3 Kenya         \n",
       "4 Ethiopia      \n",
       "5 Ethiopia      \n",
       "6 United States "
      ]
     },
     "metadata": {},
     "output_type": "display_data"
    }
   ],
   "source": [
    "df.marathon = read.csv('../data//marathon.csv')\n",
    "df.marathon %>% head"
   ]
  },
  {
   "cell_type": "markdown",
   "metadata": {},
   "source": [
    "Use `arrange` to find the best race time."
   ]
  },
  {
   "cell_type": "code",
   "execution_count": 4,
   "metadata": {},
   "outputs": [
    {
     "data": {
      "text/html": [
       "<table>\n",
       "<caption>A data.frame: 1 × 7</caption>\n",
       "<thead>\n",
       "\t<tr><th></th><th scope=col>year</th><th scope=col>name</th><th scope=col>country</th><th scope=col>time</th><th scope=col>race.time</th><th scope=col>MF</th><th scope=col>country.simple</th></tr>\n",
       "\t<tr><th></th><th scope=col>&lt;int&gt;</th><th scope=col>&lt;chr&gt;</th><th scope=col>&lt;chr&gt;</th><th scope=col>&lt;chr&gt;</th><th scope=col>&lt;dbl&gt;</th><th scope=col>&lt;chr&gt;</th><th scope=col>&lt;chr&gt;</th></tr>\n",
       "</thead>\n",
       "<tbody>\n",
       "\t<tr><th scope=row>1</th><td>2011</td><td>Geoffrey Mutai</td><td>Kenya</td><td>2H 3M 2S</td><td>2.050556</td><td>Men's</td><td>Kenya</td></tr>\n",
       "</tbody>\n",
       "</table>\n"
      ],
      "text/latex": [
       "A data.frame: 1 × 7\n",
       "\\begin{tabular}{r|lllllll}\n",
       "  & year & name & country & time & race.time & MF & country.simple\\\\\n",
       "  & <int> & <chr> & <chr> & <chr> & <dbl> & <chr> & <chr>\\\\\n",
       "\\hline\n",
       "\t1 & 2011 & Geoffrey Mutai & Kenya & 2H 3M 2S & 2.050556 & Men's & Kenya\\\\\n",
       "\\end{tabular}\n"
      ],
      "text/markdown": [
       "\n",
       "A data.frame: 1 × 7\n",
       "\n",
       "| <!--/--> | year &lt;int&gt; | name &lt;chr&gt; | country &lt;chr&gt; | time &lt;chr&gt; | race.time &lt;dbl&gt; | MF &lt;chr&gt; | country.simple &lt;chr&gt; |\n",
       "|---|---|---|---|---|---|---|---|\n",
       "| 1 | 2011 | Geoffrey Mutai | Kenya | 2H 3M 2S | 2.050556 | Men's | Kenya |\n",
       "\n"
      ],
      "text/plain": [
       "  year name           country time     race.time MF    country.simple\n",
       "1 2011 Geoffrey Mutai Kenya   2H 3M 2S 2.050556  Men's Kenya         "
      ]
     },
     "metadata": {},
     "output_type": "display_data"
    }
   ],
   "source": [
    "df.marathon %>%\n",
    "    arrange(race.time) %>%\n",
    "    head(1)"
   ]
  },
  {
   "cell_type": "markdown",
   "metadata": {},
   "source": [
    "What are the best race times by country?"
   ]
  },
  {
   "cell_type": "code",
   "execution_count": 5,
   "metadata": {},
   "outputs": [
    {
     "name": "stderr",
     "output_type": "stream",
     "text": [
      "`summarise()` ungrouping output (override with `.groups` argument)\n",
      "\n"
     ]
    },
    {
     "data": {
      "text/html": [
       "<table>\n",
       "<caption>A tibble: 25 × 2</caption>\n",
       "<thead>\n",
       "\t<tr><th scope=col>country</th><th scope=col>best_race_time</th></tr>\n",
       "\t<tr><th scope=col>&lt;chr&gt;</th><th scope=col>&lt;dbl&gt;</th></tr>\n",
       "</thead>\n",
       "<tbody>\n",
       "\t<tr><td>Australia        </td><td>2.130833</td></tr>\n",
       "\t<tr><td>Belgium          </td><td>2.316111</td></tr>\n",
       "\t<tr><td>Canada           </td><td>2.246111</td></tr>\n",
       "\t<tr><td>Colombia         </td><td>2.312500</td></tr>\n",
       "\t<tr><td>Comm. Ind. States</td><td>2.395278</td></tr>\n",
       "\t<tr><td>England          </td><td>2.175000</td></tr>\n",
       "\t<tr><td>Ethiopia         </td><td>2.145000</td></tr>\n",
       "\t<tr><td>Finland          </td><td>2.237222</td></tr>\n",
       "\t<tr><td>Germany          </td><td>2.362500</td></tr>\n",
       "\t<tr><td>Greece           </td><td>2.490833</td></tr>\n",
       "\t<tr><td>Guatemala        </td><td>2.531389</td></tr>\n",
       "\t<tr><td>Ireland          </td><td>2.227500</td></tr>\n",
       "\t<tr><td>Italy            </td><td>2.138611</td></tr>\n",
       "\t<tr><td>Japan            </td><td>2.157222</td></tr>\n",
       "\t<tr><td>Kenya            </td><td>2.050556</td></tr>\n",
       "\t<tr><td>Korea            </td><td>2.427500</td></tr>\n",
       "\t<tr><td>New Zealand      </td><td>2.262500</td></tr>\n",
       "\t<tr><td>Norway           </td><td>2.409167</td></tr>\n",
       "\t<tr><td>Poland           </td><td>2.405000</td></tr>\n",
       "\t<tr><td>Portugal         </td><td>2.408333</td></tr>\n",
       "\t<tr><td>Russia           </td><td>2.422222</td></tr>\n",
       "\t<tr><td>South Korea      </td><td>2.161944</td></tr>\n",
       "\t<tr><td>Sweden           </td><td>2.530556</td></tr>\n",
       "\t<tr><td>United States    </td><td>2.143611</td></tr>\n",
       "\t<tr><td>Yugoslavia       </td><td>2.431667</td></tr>\n",
       "</tbody>\n",
       "</table>\n"
      ],
      "text/latex": [
       "A tibble: 25 × 2\n",
       "\\begin{tabular}{ll}\n",
       " country & best\\_race\\_time\\\\\n",
       " <chr> & <dbl>\\\\\n",
       "\\hline\n",
       "\t Australia         & 2.130833\\\\\n",
       "\t Belgium           & 2.316111\\\\\n",
       "\t Canada            & 2.246111\\\\\n",
       "\t Colombia          & 2.312500\\\\\n",
       "\t Comm. Ind. States & 2.395278\\\\\n",
       "\t England           & 2.175000\\\\\n",
       "\t Ethiopia          & 2.145000\\\\\n",
       "\t Finland           & 2.237222\\\\\n",
       "\t Germany           & 2.362500\\\\\n",
       "\t Greece            & 2.490833\\\\\n",
       "\t Guatemala         & 2.531389\\\\\n",
       "\t Ireland           & 2.227500\\\\\n",
       "\t Italy             & 2.138611\\\\\n",
       "\t Japan             & 2.157222\\\\\n",
       "\t Kenya             & 2.050556\\\\\n",
       "\t Korea             & 2.427500\\\\\n",
       "\t New Zealand       & 2.262500\\\\\n",
       "\t Norway            & 2.409167\\\\\n",
       "\t Poland            & 2.405000\\\\\n",
       "\t Portugal          & 2.408333\\\\\n",
       "\t Russia            & 2.422222\\\\\n",
       "\t South Korea       & 2.161944\\\\\n",
       "\t Sweden            & 2.530556\\\\\n",
       "\t United States     & 2.143611\\\\\n",
       "\t Yugoslavia        & 2.431667\\\\\n",
       "\\end{tabular}\n"
      ],
      "text/markdown": [
       "\n",
       "A tibble: 25 × 2\n",
       "\n",
       "| country &lt;chr&gt; | best_race_time &lt;dbl&gt; |\n",
       "|---|---|\n",
       "| Australia         | 2.130833 |\n",
       "| Belgium           | 2.316111 |\n",
       "| Canada            | 2.246111 |\n",
       "| Colombia          | 2.312500 |\n",
       "| Comm. Ind. States | 2.395278 |\n",
       "| England           | 2.175000 |\n",
       "| Ethiopia          | 2.145000 |\n",
       "| Finland           | 2.237222 |\n",
       "| Germany           | 2.362500 |\n",
       "| Greece            | 2.490833 |\n",
       "| Guatemala         | 2.531389 |\n",
       "| Ireland           | 2.227500 |\n",
       "| Italy             | 2.138611 |\n",
       "| Japan             | 2.157222 |\n",
       "| Kenya             | 2.050556 |\n",
       "| Korea             | 2.427500 |\n",
       "| New Zealand       | 2.262500 |\n",
       "| Norway            | 2.409167 |\n",
       "| Poland            | 2.405000 |\n",
       "| Portugal          | 2.408333 |\n",
       "| Russia            | 2.422222 |\n",
       "| South Korea       | 2.161944 |\n",
       "| Sweden            | 2.530556 |\n",
       "| United States     | 2.143611 |\n",
       "| Yugoslavia        | 2.431667 |\n",
       "\n"
      ],
      "text/plain": [
       "   country           best_race_time\n",
       "1  Australia         2.130833      \n",
       "2  Belgium           2.316111      \n",
       "3  Canada            2.246111      \n",
       "4  Colombia          2.312500      \n",
       "5  Comm. Ind. States 2.395278      \n",
       "6  England           2.175000      \n",
       "7  Ethiopia          2.145000      \n",
       "8  Finland           2.237222      \n",
       "9  Germany           2.362500      \n",
       "10 Greece            2.490833      \n",
       "11 Guatemala         2.531389      \n",
       "12 Ireland           2.227500      \n",
       "13 Italy             2.138611      \n",
       "14 Japan             2.157222      \n",
       "15 Kenya             2.050556      \n",
       "16 Korea             2.427500      \n",
       "17 New Zealand       2.262500      \n",
       "18 Norway            2.409167      \n",
       "19 Poland            2.405000      \n",
       "20 Portugal          2.408333      \n",
       "21 Russia            2.422222      \n",
       "22 South Korea       2.161944      \n",
       "23 Sweden            2.530556      \n",
       "24 United States     2.143611      \n",
       "25 Yugoslavia        2.431667      "
      ]
     },
     "metadata": {},
     "output_type": "display_data"
    }
   ],
   "source": [
    "df.marathon %>%\n",
    "    group_by(country) %>%\n",
    "    summarize(best_country_time = min(race.time))"
   ]
  },
  {
   "cell_type": "markdown",
   "metadata": {},
   "source": [
    "In what year was the difference between the men's and women's winning time smallest? Use this table:"
   ]
  },
  {
   "cell_type": "code",
   "execution_count": 6,
   "metadata": {},
   "outputs": [
    {
     "data": {
      "text/html": [
       "<table>\n",
       "<caption>A data.frame: 6 × 3</caption>\n",
       "<thead>\n",
       "\t<tr><th></th><th scope=col>year</th><th scope=col>men</th><th scope=col>women</th></tr>\n",
       "\t<tr><th></th><th scope=col>&lt;int&gt;</th><th scope=col>&lt;dbl&gt;</th><th scope=col>&lt;dbl&gt;</th></tr>\n",
       "</thead>\n",
       "<tbody>\n",
       "\t<tr><th scope=row>1</th><td>1972</td><td>2.260833</td><td>3.173889</td></tr>\n",
       "\t<tr><th scope=row>2</th><td>1973</td><td>2.267500</td><td>3.099722</td></tr>\n",
       "\t<tr><th scope=row>3</th><td>1974</td><td>2.227500</td><td>2.786389</td></tr>\n",
       "\t<tr><th scope=row>4</th><td>1975</td><td>2.165278</td><td>2.706667</td></tr>\n",
       "\t<tr><th scope=row>5</th><td>1976</td><td>2.338611</td><td>2.786111</td></tr>\n",
       "\t<tr><th scope=row>6</th><td>1977</td><td>2.246111</td><td>2.809167</td></tr>\n",
       "</tbody>\n",
       "</table>\n"
      ],
      "text/latex": [
       "A data.frame: 6 × 3\n",
       "\\begin{tabular}{r|lll}\n",
       "  & year & men & women\\\\\n",
       "  & <int> & <dbl> & <dbl>\\\\\n",
       "\\hline\n",
       "\t1 & 1972 & 2.260833 & 3.173889\\\\\n",
       "\t2 & 1973 & 2.267500 & 3.099722\\\\\n",
       "\t3 & 1974 & 2.227500 & 2.786389\\\\\n",
       "\t4 & 1975 & 2.165278 & 2.706667\\\\\n",
       "\t5 & 1976 & 2.338611 & 2.786111\\\\\n",
       "\t6 & 1977 & 2.246111 & 2.809167\\\\\n",
       "\\end{tabular}\n"
      ],
      "text/markdown": [
       "\n",
       "A data.frame: 6 × 3\n",
       "\n",
       "| <!--/--> | year &lt;int&gt; | men &lt;dbl&gt; | women &lt;dbl&gt; |\n",
       "|---|---|---|---|\n",
       "| 1 | 1972 | 2.260833 | 3.173889 |\n",
       "| 2 | 1973 | 2.267500 | 3.099722 |\n",
       "| 3 | 1974 | 2.227500 | 2.786389 |\n",
       "| 4 | 1975 | 2.165278 | 2.706667 |\n",
       "| 5 | 1976 | 2.338611 | 2.786111 |\n",
       "| 6 | 1977 | 2.246111 | 2.809167 |\n",
       "\n"
      ],
      "text/plain": [
       "  year men      women   \n",
       "1 1972 2.260833 3.173889\n",
       "2 1973 2.267500 3.099722\n",
       "3 1974 2.227500 2.786389\n",
       "4 1975 2.165278 2.706667\n",
       "5 1976 2.338611 2.786111\n",
       "6 1977 2.246111 2.809167"
      ]
     },
     "metadata": {},
     "output_type": "display_data"
    }
   ],
   "source": [
    "df = df.marathon %>%\n",
    "    select(year, MF, race.time) %>%\n",
    "    tidyr::spread(MF, race.time) %>%\n",
    "    drop_na() %>%\n",
    "    rename(men = `Men's`, women = `Women's`)\n",
    "\n",
    "df %>% head"
   ]
  },
  {
   "cell_type": "code",
   "execution_count": 8,
   "metadata": {},
   "outputs": [
    {
     "data": {
      "text/html": [
       "<table>\n",
       "<caption>A data.frame: 1 × 4</caption>\n",
       "<thead>\n",
       "\t<tr><th></th><th scope=col>year</th><th scope=col>men</th><th scope=col>women</th><th scope=col>diff</th></tr>\n",
       "\t<tr><th></th><th scope=col>&lt;int&gt;</th><th scope=col>&lt;dbl&gt;</th><th scope=col>&lt;dbl&gt;</th><th scope=col>&lt;dbl&gt;</th></tr>\n",
       "</thead>\n",
       "<tbody>\n",
       "\t<tr><th scope=row>1</th><td>2014</td><td>2.143611</td><td>2.333056</td><td>0.1894444</td></tr>\n",
       "</tbody>\n",
       "</table>\n"
      ],
      "text/latex": [
       "A data.frame: 1 × 4\n",
       "\\begin{tabular}{r|llll}\n",
       "  & year & men & women & diff\\\\\n",
       "  & <int> & <dbl> & <dbl> & <dbl>\\\\\n",
       "\\hline\n",
       "\t1 & 2014 & 2.143611 & 2.333056 & 0.1894444\\\\\n",
       "\\end{tabular}\n"
      ],
      "text/markdown": [
       "\n",
       "A data.frame: 1 × 4\n",
       "\n",
       "| <!--/--> | year &lt;int&gt; | men &lt;dbl&gt; | women &lt;dbl&gt; | diff &lt;dbl&gt; |\n",
       "|---|---|---|---|---|\n",
       "| 1 | 2014 | 2.143611 | 2.333056 | 0.1894444 |\n",
       "\n"
      ],
      "text/plain": [
       "  year men      women    diff     \n",
       "1 2014 2.143611 2.333056 0.1894444"
      ]
     },
     "metadata": {},
     "output_type": "display_data"
    }
   ],
   "source": [
    "df %>%\n",
    "    mutate(diff = abs(men-women)) %>%\n",
    "    arrange(diff) %>%\n",
    "    head(1)"
   ]
  },
  {
   "cell_type": "markdown",
   "metadata": {},
   "source": [
    "Plot the difference between men's and women's race times by year."
   ]
  },
  {
   "cell_type": "code",
   "execution_count": null,
   "metadata": {},
   "outputs": [],
   "source": [
    "options(repr.plot.res = 250, repr.plot.width = 5, repr.plot.height = 4)"
   ]
  },
  {
   "cell_type": "code",
   "execution_count": null,
   "metadata": {},
   "outputs": [],
   "source": [
    "new_df = df %>%\n",
    "    mutate(diff = abs(men-women))\n",
    "ggplot(new_df) + \n",
    "    geom_line(aes(x = year, y = diff))"
   ]
  },
  {
   "cell_type": "code",
   "execution_count": null,
   "metadata": {},
   "outputs": [],
   "source": []
  }
 ],
 "metadata": {
  "kernelspec": {
   "display_name": "R",
   "language": "R",
   "name": "ir"
  },
  "language_info": {
   "codemirror_mode": "r",
   "file_extension": ".r",
   "mimetype": "text/x-r-source",
   "name": "R",
   "pygments_lexer": "r",
   "version": "4.0.2"
  }
 },
 "nbformat": 4,
 "nbformat_minor": 4
}

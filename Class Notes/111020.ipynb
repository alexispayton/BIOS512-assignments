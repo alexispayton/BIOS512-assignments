{
 "cells": [
  {
   "cell_type": "markdown",
   "metadata": {},
   "source": [
    "Using the `nycflights13` package/data, which three airlines performed the most flights in 2013.\n",
    "\n",
    "Hints:  \n",
    "- The `airlines` table provides the name of each airline\n",
    "- Each row in the `flights` table represents one flight\n",
    "- Use `group_by`, `summarize`,  and `arrange` "
   ]
  },
  {
   "cell_type": "code",
   "execution_count": 1,
   "metadata": {},
   "outputs": [
    {
     "name": "stderr",
     "output_type": "stream",
     "text": [
      "Warning message:\n",
      "“replacing previous import ‘vctrs::data_frame’ by ‘tibble::data_frame’ when loading ‘dplyr’”\n",
      "── \u001b[1mAttaching packages\u001b[22m ─────────────────────────────────────── tidyverse 1.3.0 ──\n",
      "\n",
      "\u001b[32m✔\u001b[39m \u001b[34mggplot2\u001b[39m 3.3.2     \u001b[32m✔\u001b[39m \u001b[34mpurrr  \u001b[39m 0.3.4\n",
      "\u001b[32m✔\u001b[39m \u001b[34mtibble \u001b[39m 3.0.4     \u001b[32m✔\u001b[39m \u001b[34mdplyr  \u001b[39m 1.0.1\n",
      "\u001b[32m✔\u001b[39m \u001b[34mtidyr  \u001b[39m 1.1.1     \u001b[32m✔\u001b[39m \u001b[34mstringr\u001b[39m 1.4.0\n",
      "\u001b[32m✔\u001b[39m \u001b[34mreadr  \u001b[39m 1.3.1     \u001b[32m✔\u001b[39m \u001b[34mforcats\u001b[39m 0.5.0\n",
      "\n",
      "Warning message:\n",
      "“package ‘ggplot2’ was built under R version 4.0.1”\n",
      "Warning message:\n",
      "“package ‘tidyr’ was built under R version 4.0.2”\n",
      "Warning message:\n",
      "“package ‘dplyr’ was built under R version 4.0.2”\n",
      "── \u001b[1mConflicts\u001b[22m ────────────────────────────────────────── tidyverse_conflicts() ──\n",
      "\u001b[31m✖\u001b[39m \u001b[34mdplyr\u001b[39m::\u001b[32mfilter()\u001b[39m masks \u001b[34mstats\u001b[39m::filter()\n",
      "\u001b[31m✖\u001b[39m \u001b[34mdplyr\u001b[39m::\u001b[32mlag()\u001b[39m    masks \u001b[34mstats\u001b[39m::lag()\n",
      "\n"
     ]
    }
   ],
   "source": [
    "library(nycflights13)\n",
    "library(tidyverse)"
   ]
  },
  {
   "cell_type": "markdown",
   "metadata": {},
   "source": [
    "Re-create the following figure:\n",
    "\n",
    "(*Hint: use* `forcats` *to lump and reorder by number of flights*)"
   ]
  },
  {
   "cell_type": "markdown",
   "metadata": {},
   "source": [
    "<img src=\"figs/flights_bar.png\" style=\"width: 600px;\"/>"
   ]
  },
  {
   "cell_type": "code",
   "execution_count": 3,
   "metadata": {},
   "outputs": [
    {
     "data": {
      "text/html": [
       "<table>\n",
       "<caption>A tibble: 6 × 19</caption>\n",
       "<thead>\n",
       "\t<tr><th scope=col>year</th><th scope=col>month</th><th scope=col>day</th><th scope=col>dep_time</th><th scope=col>sched_dep_time</th><th scope=col>dep_delay</th><th scope=col>arr_time</th><th scope=col>sched_arr_time</th><th scope=col>arr_delay</th><th scope=col>carrier</th><th scope=col>flight</th><th scope=col>tailnum</th><th scope=col>origin</th><th scope=col>dest</th><th scope=col>air_time</th><th scope=col>distance</th><th scope=col>hour</th><th scope=col>minute</th><th scope=col>time_hour</th></tr>\n",
       "\t<tr><th scope=col>&lt;int&gt;</th><th scope=col>&lt;int&gt;</th><th scope=col>&lt;int&gt;</th><th scope=col>&lt;int&gt;</th><th scope=col>&lt;int&gt;</th><th scope=col>&lt;dbl&gt;</th><th scope=col>&lt;int&gt;</th><th scope=col>&lt;int&gt;</th><th scope=col>&lt;dbl&gt;</th><th scope=col>&lt;chr&gt;</th><th scope=col>&lt;int&gt;</th><th scope=col>&lt;chr&gt;</th><th scope=col>&lt;chr&gt;</th><th scope=col>&lt;chr&gt;</th><th scope=col>&lt;dbl&gt;</th><th scope=col>&lt;dbl&gt;</th><th scope=col>&lt;dbl&gt;</th><th scope=col>&lt;dbl&gt;</th><th scope=col>&lt;dttm&gt;</th></tr>\n",
       "</thead>\n",
       "<tbody>\n",
       "\t<tr><td>2013</td><td>1</td><td>1</td><td>517</td><td>515</td><td> 2</td><td> 830</td><td> 819</td><td> 11</td><td>UA</td><td>1545</td><td>N14228</td><td>EWR</td><td>IAH</td><td>227</td><td>1400</td><td>5</td><td>15</td><td>2013-01-01 05:00:00</td></tr>\n",
       "\t<tr><td>2013</td><td>1</td><td>1</td><td>533</td><td>529</td><td> 4</td><td> 850</td><td> 830</td><td> 20</td><td>UA</td><td>1714</td><td>N24211</td><td>LGA</td><td>IAH</td><td>227</td><td>1416</td><td>5</td><td>29</td><td>2013-01-01 05:00:00</td></tr>\n",
       "\t<tr><td>2013</td><td>1</td><td>1</td><td>542</td><td>540</td><td> 2</td><td> 923</td><td> 850</td><td> 33</td><td>AA</td><td>1141</td><td>N619AA</td><td>JFK</td><td>MIA</td><td>160</td><td>1089</td><td>5</td><td>40</td><td>2013-01-01 05:00:00</td></tr>\n",
       "\t<tr><td>2013</td><td>1</td><td>1</td><td>544</td><td>545</td><td>-1</td><td>1004</td><td>1022</td><td>-18</td><td>B6</td><td> 725</td><td>N804JB</td><td>JFK</td><td>BQN</td><td>183</td><td>1576</td><td>5</td><td>45</td><td>2013-01-01 05:00:00</td></tr>\n",
       "\t<tr><td>2013</td><td>1</td><td>1</td><td>554</td><td>600</td><td>-6</td><td> 812</td><td> 837</td><td>-25</td><td>DL</td><td> 461</td><td>N668DN</td><td>LGA</td><td>ATL</td><td>116</td><td> 762</td><td>6</td><td> 0</td><td>2013-01-01 06:00:00</td></tr>\n",
       "\t<tr><td>2013</td><td>1</td><td>1</td><td>554</td><td>558</td><td>-4</td><td> 740</td><td> 728</td><td> 12</td><td>UA</td><td>1696</td><td>N39463</td><td>EWR</td><td>ORD</td><td>150</td><td> 719</td><td>5</td><td>58</td><td>2013-01-01 05:00:00</td></tr>\n",
       "</tbody>\n",
       "</table>\n"
      ],
      "text/latex": [
       "A tibble: 6 × 19\n",
       "\\begin{tabular}{lllllllllllllllllll}\n",
       " year & month & day & dep\\_time & sched\\_dep\\_time & dep\\_delay & arr\\_time & sched\\_arr\\_time & arr\\_delay & carrier & flight & tailnum & origin & dest & air\\_time & distance & hour & minute & time\\_hour\\\\\n",
       " <int> & <int> & <int> & <int> & <int> & <dbl> & <int> & <int> & <dbl> & <chr> & <int> & <chr> & <chr> & <chr> & <dbl> & <dbl> & <dbl> & <dbl> & <dttm>\\\\\n",
       "\\hline\n",
       "\t 2013 & 1 & 1 & 517 & 515 &  2 &  830 &  819 &  11 & UA & 1545 & N14228 & EWR & IAH & 227 & 1400 & 5 & 15 & 2013-01-01 05:00:00\\\\\n",
       "\t 2013 & 1 & 1 & 533 & 529 &  4 &  850 &  830 &  20 & UA & 1714 & N24211 & LGA & IAH & 227 & 1416 & 5 & 29 & 2013-01-01 05:00:00\\\\\n",
       "\t 2013 & 1 & 1 & 542 & 540 &  2 &  923 &  850 &  33 & AA & 1141 & N619AA & JFK & MIA & 160 & 1089 & 5 & 40 & 2013-01-01 05:00:00\\\\\n",
       "\t 2013 & 1 & 1 & 544 & 545 & -1 & 1004 & 1022 & -18 & B6 &  725 & N804JB & JFK & BQN & 183 & 1576 & 5 & 45 & 2013-01-01 05:00:00\\\\\n",
       "\t 2013 & 1 & 1 & 554 & 600 & -6 &  812 &  837 & -25 & DL &  461 & N668DN & LGA & ATL & 116 &  762 & 6 &  0 & 2013-01-01 06:00:00\\\\\n",
       "\t 2013 & 1 & 1 & 554 & 558 & -4 &  740 &  728 &  12 & UA & 1696 & N39463 & EWR & ORD & 150 &  719 & 5 & 58 & 2013-01-01 05:00:00\\\\\n",
       "\\end{tabular}\n"
      ],
      "text/markdown": [
       "\n",
       "A tibble: 6 × 19\n",
       "\n",
       "| year &lt;int&gt; | month &lt;int&gt; | day &lt;int&gt; | dep_time &lt;int&gt; | sched_dep_time &lt;int&gt; | dep_delay &lt;dbl&gt; | arr_time &lt;int&gt; | sched_arr_time &lt;int&gt; | arr_delay &lt;dbl&gt; | carrier &lt;chr&gt; | flight &lt;int&gt; | tailnum &lt;chr&gt; | origin &lt;chr&gt; | dest &lt;chr&gt; | air_time &lt;dbl&gt; | distance &lt;dbl&gt; | hour &lt;dbl&gt; | minute &lt;dbl&gt; | time_hour &lt;dttm&gt; |\n",
       "|---|---|---|---|---|---|---|---|---|---|---|---|---|---|---|---|---|---|---|\n",
       "| 2013 | 1 | 1 | 517 | 515 |  2 |  830 |  819 |  11 | UA | 1545 | N14228 | EWR | IAH | 227 | 1400 | 5 | 15 | 2013-01-01 05:00:00 |\n",
       "| 2013 | 1 | 1 | 533 | 529 |  4 |  850 |  830 |  20 | UA | 1714 | N24211 | LGA | IAH | 227 | 1416 | 5 | 29 | 2013-01-01 05:00:00 |\n",
       "| 2013 | 1 | 1 | 542 | 540 |  2 |  923 |  850 |  33 | AA | 1141 | N619AA | JFK | MIA | 160 | 1089 | 5 | 40 | 2013-01-01 05:00:00 |\n",
       "| 2013 | 1 | 1 | 544 | 545 | -1 | 1004 | 1022 | -18 | B6 |  725 | N804JB | JFK | BQN | 183 | 1576 | 5 | 45 | 2013-01-01 05:00:00 |\n",
       "| 2013 | 1 | 1 | 554 | 600 | -6 |  812 |  837 | -25 | DL |  461 | N668DN | LGA | ATL | 116 |  762 | 6 |  0 | 2013-01-01 06:00:00 |\n",
       "| 2013 | 1 | 1 | 554 | 558 | -4 |  740 |  728 |  12 | UA | 1696 | N39463 | EWR | ORD | 150 |  719 | 5 | 58 | 2013-01-01 05:00:00 |\n",
       "\n"
      ],
      "text/plain": [
       "  year month day dep_time sched_dep_time dep_delay arr_time sched_arr_time\n",
       "1 2013 1     1   517      515             2         830      819          \n",
       "2 2013 1     1   533      529             4         850      830          \n",
       "3 2013 1     1   542      540             2         923      850          \n",
       "4 2013 1     1   544      545            -1        1004     1022          \n",
       "5 2013 1     1   554      600            -6         812      837          \n",
       "6 2013 1     1   554      558            -4         740      728          \n",
       "  arr_delay carrier flight tailnum origin dest air_time distance hour minute\n",
       "1  11       UA      1545   N14228  EWR    IAH  227      1400     5    15    \n",
       "2  20       UA      1714   N24211  LGA    IAH  227      1416     5    29    \n",
       "3  33       AA      1141   N619AA  JFK    MIA  160      1089     5    40    \n",
       "4 -18       B6       725   N804JB  JFK    BQN  183      1576     5    45    \n",
       "5 -25       DL       461   N668DN  LGA    ATL  116       762     6     0    \n",
       "6  12       UA      1696   N39463  EWR    ORD  150       719     5    58    \n",
       "  time_hour          \n",
       "1 2013-01-01 05:00:00\n",
       "2 2013-01-01 05:00:00\n",
       "3 2013-01-01 05:00:00\n",
       "4 2013-01-01 05:00:00\n",
       "5 2013-01-01 06:00:00\n",
       "6 2013-01-01 05:00:00"
      ]
     },
     "metadata": {},
     "output_type": "display_data"
    }
   ],
   "source": [
    "head(flights)"
   ]
  },
  {
   "cell_type": "code",
   "execution_count": 6,
   "metadata": {},
   "outputs": [
    {
     "data": {
      "text/html": [
       "<table>\n",
       "<caption>A tibble: 6 × 2</caption>\n",
       "<thead>\n",
       "\t<tr><th scope=col>carrier</th><th scope=col>name</th></tr>\n",
       "\t<tr><th scope=col>&lt;chr&gt;</th><th scope=col>&lt;chr&gt;</th></tr>\n",
       "</thead>\n",
       "<tbody>\n",
       "\t<tr><td>9E</td><td>Endeavor Air Inc.       </td></tr>\n",
       "\t<tr><td>AA</td><td>American Airlines Inc.  </td></tr>\n",
       "\t<tr><td>AS</td><td>Alaska Airlines Inc.    </td></tr>\n",
       "\t<tr><td>B6</td><td>JetBlue Airways         </td></tr>\n",
       "\t<tr><td>DL</td><td>Delta Air Lines Inc.    </td></tr>\n",
       "\t<tr><td>EV</td><td>ExpressJet Airlines Inc.</td></tr>\n",
       "</tbody>\n",
       "</table>\n"
      ],
      "text/latex": [
       "A tibble: 6 × 2\n",
       "\\begin{tabular}{ll}\n",
       " carrier & name\\\\\n",
       " <chr> & <chr>\\\\\n",
       "\\hline\n",
       "\t 9E & Endeavor Air Inc.       \\\\\n",
       "\t AA & American Airlines Inc.  \\\\\n",
       "\t AS & Alaska Airlines Inc.    \\\\\n",
       "\t B6 & JetBlue Airways         \\\\\n",
       "\t DL & Delta Air Lines Inc.    \\\\\n",
       "\t EV & ExpressJet Airlines Inc.\\\\\n",
       "\\end{tabular}\n"
      ],
      "text/markdown": [
       "\n",
       "A tibble: 6 × 2\n",
       "\n",
       "| carrier &lt;chr&gt; | name &lt;chr&gt; |\n",
       "|---|---|\n",
       "| 9E | Endeavor Air Inc.        |\n",
       "| AA | American Airlines Inc.   |\n",
       "| AS | Alaska Airlines Inc.     |\n",
       "| B6 | JetBlue Airways          |\n",
       "| DL | Delta Air Lines Inc.     |\n",
       "| EV | ExpressJet Airlines Inc. |\n",
       "\n"
      ],
      "text/plain": [
       "  carrier name                    \n",
       "1 9E      Endeavor Air Inc.       \n",
       "2 AA      American Airlines Inc.  \n",
       "3 AS      Alaska Airlines Inc.    \n",
       "4 B6      JetBlue Airways         \n",
       "5 DL      Delta Air Lines Inc.    \n",
       "6 EV      ExpressJet Airlines Inc."
      ]
     },
     "metadata": {},
     "output_type": "display_data"
    }
   ],
   "source": [
    "head(airlines)"
   ]
  },
  {
   "cell_type": "code",
   "execution_count": 13,
   "metadata": {},
   "outputs": [
    {
     "name": "stderr",
     "output_type": "stream",
     "text": [
      "Joining, by = \"carrier\"\n",
      "\n"
     ]
    },
    {
     "data": {
      "text/html": [
       "<table>\n",
       "<caption>A tibble: 6 × 20</caption>\n",
       "<thead>\n",
       "\t<tr><th scope=col>carrier</th><th scope=col>name</th><th scope=col>year</th><th scope=col>month</th><th scope=col>day</th><th scope=col>dep_time</th><th scope=col>sched_dep_time</th><th scope=col>dep_delay</th><th scope=col>arr_time</th><th scope=col>sched_arr_time</th><th scope=col>arr_delay</th><th scope=col>flight</th><th scope=col>tailnum</th><th scope=col>origin</th><th scope=col>dest</th><th scope=col>air_time</th><th scope=col>distance</th><th scope=col>hour</th><th scope=col>minute</th><th scope=col>time_hour</th></tr>\n",
       "\t<tr><th scope=col>&lt;chr&gt;</th><th scope=col>&lt;chr&gt;</th><th scope=col>&lt;int&gt;</th><th scope=col>&lt;int&gt;</th><th scope=col>&lt;int&gt;</th><th scope=col>&lt;int&gt;</th><th scope=col>&lt;int&gt;</th><th scope=col>&lt;dbl&gt;</th><th scope=col>&lt;int&gt;</th><th scope=col>&lt;int&gt;</th><th scope=col>&lt;dbl&gt;</th><th scope=col>&lt;int&gt;</th><th scope=col>&lt;chr&gt;</th><th scope=col>&lt;chr&gt;</th><th scope=col>&lt;chr&gt;</th><th scope=col>&lt;dbl&gt;</th><th scope=col>&lt;dbl&gt;</th><th scope=col>&lt;dbl&gt;</th><th scope=col>&lt;dbl&gt;</th><th scope=col>&lt;dttm&gt;</th></tr>\n",
       "</thead>\n",
       "<tbody>\n",
       "\t<tr><td>9E</td><td>Endeavor Air Inc.</td><td>2013</td><td>1</td><td>1</td><td> 810</td><td> 810</td><td> 0</td><td>1048</td><td>1037</td><td>11</td><td>3538</td><td>N915XJ</td><td>JFK</td><td>MSP</td><td>189</td><td>1029</td><td> 8</td><td>10</td><td>2013-01-01 08:00:00</td></tr>\n",
       "\t<tr><td>9E</td><td>Endeavor Air Inc.</td><td>2013</td><td>1</td><td>1</td><td>1451</td><td>1500</td><td>-9</td><td>1634</td><td>1636</td><td>-2</td><td>4105</td><td>N8444F</td><td>JFK</td><td>IAD</td><td> 57</td><td> 228</td><td>15</td><td> 0</td><td>2013-01-01 15:00:00</td></tr>\n",
       "\t<tr><td>9E</td><td>Endeavor Air Inc.</td><td>2013</td><td>1</td><td>1</td><td>1452</td><td>1455</td><td>-3</td><td>1637</td><td>1639</td><td>-2</td><td>3295</td><td>N920XJ</td><td>JFK</td><td>BUF</td><td> 68</td><td> 301</td><td>14</td><td>55</td><td>2013-01-01 14:00:00</td></tr>\n",
       "\t<tr><td>9E</td><td>Endeavor Air Inc.</td><td>2013</td><td>1</td><td>1</td><td>1454</td><td>1500</td><td>-6</td><td>1635</td><td>1636</td><td>-1</td><td>3843</td><td>N8409N</td><td>JFK</td><td>SYR</td><td> 57</td><td> 209</td><td>15</td><td> 0</td><td>2013-01-01 15:00:00</td></tr>\n",
       "\t<tr><td>9E</td><td>Endeavor Air Inc.</td><td>2013</td><td>1</td><td>1</td><td>1507</td><td>1515</td><td>-8</td><td>1651</td><td>1656</td><td>-5</td><td>3792</td><td>N8631E</td><td>JFK</td><td>ROC</td><td> 66</td><td> 264</td><td>15</td><td>15</td><td>2013-01-01 15:00:00</td></tr>\n",
       "\t<tr><td>9E</td><td>Endeavor Air Inc.</td><td>2013</td><td>1</td><td>1</td><td>1530</td><td>1530</td><td> 0</td><td>1650</td><td>1655</td><td>-5</td><td>3369</td><td>N913XJ</td><td>JFK</td><td>BWI</td><td> 40</td><td> 184</td><td>15</td><td>30</td><td>2013-01-01 15:00:00</td></tr>\n",
       "</tbody>\n",
       "</table>\n"
      ],
      "text/latex": [
       "A tibble: 6 × 20\n",
       "\\begin{tabular}{llllllllllllllllllll}\n",
       " carrier & name & year & month & day & dep\\_time & sched\\_dep\\_time & dep\\_delay & arr\\_time & sched\\_arr\\_time & arr\\_delay & flight & tailnum & origin & dest & air\\_time & distance & hour & minute & time\\_hour\\\\\n",
       " <chr> & <chr> & <int> & <int> & <int> & <int> & <int> & <dbl> & <int> & <int> & <dbl> & <int> & <chr> & <chr> & <chr> & <dbl> & <dbl> & <dbl> & <dbl> & <dttm>\\\\\n",
       "\\hline\n",
       "\t 9E & Endeavor Air Inc. & 2013 & 1 & 1 &  810 &  810 &  0 & 1048 & 1037 & 11 & 3538 & N915XJ & JFK & MSP & 189 & 1029 &  8 & 10 & 2013-01-01 08:00:00\\\\\n",
       "\t 9E & Endeavor Air Inc. & 2013 & 1 & 1 & 1451 & 1500 & -9 & 1634 & 1636 & -2 & 4105 & N8444F & JFK & IAD &  57 &  228 & 15 &  0 & 2013-01-01 15:00:00\\\\\n",
       "\t 9E & Endeavor Air Inc. & 2013 & 1 & 1 & 1452 & 1455 & -3 & 1637 & 1639 & -2 & 3295 & N920XJ & JFK & BUF &  68 &  301 & 14 & 55 & 2013-01-01 14:00:00\\\\\n",
       "\t 9E & Endeavor Air Inc. & 2013 & 1 & 1 & 1454 & 1500 & -6 & 1635 & 1636 & -1 & 3843 & N8409N & JFK & SYR &  57 &  209 & 15 &  0 & 2013-01-01 15:00:00\\\\\n",
       "\t 9E & Endeavor Air Inc. & 2013 & 1 & 1 & 1507 & 1515 & -8 & 1651 & 1656 & -5 & 3792 & N8631E & JFK & ROC &  66 &  264 & 15 & 15 & 2013-01-01 15:00:00\\\\\n",
       "\t 9E & Endeavor Air Inc. & 2013 & 1 & 1 & 1530 & 1530 &  0 & 1650 & 1655 & -5 & 3369 & N913XJ & JFK & BWI &  40 &  184 & 15 & 30 & 2013-01-01 15:00:00\\\\\n",
       "\\end{tabular}\n"
      ],
      "text/markdown": [
       "\n",
       "A tibble: 6 × 20\n",
       "\n",
       "| carrier &lt;chr&gt; | name &lt;chr&gt; | year &lt;int&gt; | month &lt;int&gt; | day &lt;int&gt; | dep_time &lt;int&gt; | sched_dep_time &lt;int&gt; | dep_delay &lt;dbl&gt; | arr_time &lt;int&gt; | sched_arr_time &lt;int&gt; | arr_delay &lt;dbl&gt; | flight &lt;int&gt; | tailnum &lt;chr&gt; | origin &lt;chr&gt; | dest &lt;chr&gt; | air_time &lt;dbl&gt; | distance &lt;dbl&gt; | hour &lt;dbl&gt; | minute &lt;dbl&gt; | time_hour &lt;dttm&gt; |\n",
       "|---|---|---|---|---|---|---|---|---|---|---|---|---|---|---|---|---|---|---|---|\n",
       "| 9E | Endeavor Air Inc. | 2013 | 1 | 1 |  810 |  810 |  0 | 1048 | 1037 | 11 | 3538 | N915XJ | JFK | MSP | 189 | 1029 |  8 | 10 | 2013-01-01 08:00:00 |\n",
       "| 9E | Endeavor Air Inc. | 2013 | 1 | 1 | 1451 | 1500 | -9 | 1634 | 1636 | -2 | 4105 | N8444F | JFK | IAD |  57 |  228 | 15 |  0 | 2013-01-01 15:00:00 |\n",
       "| 9E | Endeavor Air Inc. | 2013 | 1 | 1 | 1452 | 1455 | -3 | 1637 | 1639 | -2 | 3295 | N920XJ | JFK | BUF |  68 |  301 | 14 | 55 | 2013-01-01 14:00:00 |\n",
       "| 9E | Endeavor Air Inc. | 2013 | 1 | 1 | 1454 | 1500 | -6 | 1635 | 1636 | -1 | 3843 | N8409N | JFK | SYR |  57 |  209 | 15 |  0 | 2013-01-01 15:00:00 |\n",
       "| 9E | Endeavor Air Inc. | 2013 | 1 | 1 | 1507 | 1515 | -8 | 1651 | 1656 | -5 | 3792 | N8631E | JFK | ROC |  66 |  264 | 15 | 15 | 2013-01-01 15:00:00 |\n",
       "| 9E | Endeavor Air Inc. | 2013 | 1 | 1 | 1530 | 1530 |  0 | 1650 | 1655 | -5 | 3369 | N913XJ | JFK | BWI |  40 |  184 | 15 | 30 | 2013-01-01 15:00:00 |\n",
       "\n"
      ],
      "text/plain": [
       "  carrier name              year month day dep_time sched_dep_time dep_delay\n",
       "1 9E      Endeavor Air Inc. 2013 1     1    810      810            0       \n",
       "2 9E      Endeavor Air Inc. 2013 1     1   1451     1500           -9       \n",
       "3 9E      Endeavor Air Inc. 2013 1     1   1452     1455           -3       \n",
       "4 9E      Endeavor Air Inc. 2013 1     1   1454     1500           -6       \n",
       "5 9E      Endeavor Air Inc. 2013 1     1   1507     1515           -8       \n",
       "6 9E      Endeavor Air Inc. 2013 1     1   1530     1530            0       \n",
       "  arr_time sched_arr_time arr_delay flight tailnum origin dest air_time\n",
       "1 1048     1037           11        3538   N915XJ  JFK    MSP  189     \n",
       "2 1634     1636           -2        4105   N8444F  JFK    IAD   57     \n",
       "3 1637     1639           -2        3295   N920XJ  JFK    BUF   68     \n",
       "4 1635     1636           -1        3843   N8409N  JFK    SYR   57     \n",
       "5 1651     1656           -5        3792   N8631E  JFK    ROC   66     \n",
       "6 1650     1655           -5        3369   N913XJ  JFK    BWI   40     \n",
       "  distance hour minute time_hour          \n",
       "1 1029      8   10     2013-01-01 08:00:00\n",
       "2  228     15    0     2013-01-01 15:00:00\n",
       "3  301     14   55     2013-01-01 14:00:00\n",
       "4  209     15    0     2013-01-01 15:00:00\n",
       "5  264     15   15     2013-01-01 15:00:00\n",
       "6  184     15   30     2013-01-01 15:00:00"
      ]
     },
     "metadata": {},
     "output_type": "display_data"
    }
   ],
   "source": [
    "final_df = airlines %>% \n",
    "    right_join(flights) #want everything in the airlines df\n",
    "head(final_df)"
   ]
  },
  {
   "cell_type": "code",
   "execution_count": 26,
   "metadata": {},
   "outputs": [
    {
     "data": {
      "image/png": "[encoded data removed]",
      "text/plain": [
       "plot without title"
      ]
     },
     "metadata": {
      "image/png": {
       "height": 420,
       "width": 420
      }
     },
     "output_type": "display_data"
    }
   ],
   "source": [
    "final_df$name = factor(final_df$name)\n",
    "ggplot(data = final_df) + \n",
    "  geom_bar(aes(y = name %>% \n",
    "       fct_lump(n = 10) %>%\n",
    "       fct_infreq() %>% \n",
    "       fct_relevel('Other', after = Inf) %>% #removes other category from levels\n",
    "       fct_rev()))"
   ]
  },
  {
   "cell_type": "code",
   "execution_count": null,
   "metadata": {},
   "outputs": [],
   "source": []
  }
 ],
 "metadata": {
  "kernelspec": {
   "display_name": "R",
   "language": "R",
   "name": "ir"
  },
  "language_info": {
   "codemirror_mode": "r",
   "file_extension": ".r",
   "mimetype": "text/x-r-source",
   "name": "R",
   "pygments_lexer": "r",
   "version": "3.6.3"
  }
 },
 "nbformat": 4,
 "nbformat_minor": 4
}

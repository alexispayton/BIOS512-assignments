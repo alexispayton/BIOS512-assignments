{
 "cells": [
  {
   "cell_type": "code",
   "execution_count": 1,
   "metadata": {},
   "outputs": [
    {
     "name": "stderr",
     "output_type": "stream",
     "text": [
      "Warning message:\n",
      "“replacing previous import ‘vctrs::data_frame’ by ‘tibble::data_frame’ when loading ‘dplyr’”\n",
      "── \u001b[1mAttaching packages\u001b[22m ─────────────────────────────────────── tidyverse 1.3.0 ──\n",
      "\n",
      "\u001b[32m✔\u001b[39m \u001b[34mggplot2\u001b[39m 3.3.2     \u001b[32m✔\u001b[39m \u001b[34mpurrr  \u001b[39m 0.3.4\n",
      "\u001b[32m✔\u001b[39m \u001b[34mtibble \u001b[39m 3.0.4     \u001b[32m✔\u001b[39m \u001b[34mdplyr  \u001b[39m 1.0.1\n",
      "\u001b[32m✔\u001b[39m \u001b[34mtidyr  \u001b[39m 1.1.1     \u001b[32m✔\u001b[39m \u001b[34mstringr\u001b[39m 1.4.0\n",
      "\u001b[32m✔\u001b[39m \u001b[34mreadr  \u001b[39m 1.3.1     \u001b[32m✔\u001b[39m \u001b[34mforcats\u001b[39m 0.5.0\n",
      "\n",
      "Warning message:\n",
      "“package ‘ggplot2’ was built under R version 4.0.1”\n",
      "Warning message:\n",
      "“package ‘tidyr’ was built under R version 4.0.2”\n",
      "Warning message:\n",
      "“package ‘dplyr’ was built under R version 4.0.2”\n",
      "── \u001b[1mConflicts\u001b[22m ────────────────────────────────────────── tidyverse_conflicts() ──\n",
      "\u001b[31m✖\u001b[39m \u001b[34mdplyr\u001b[39m::\u001b[32mfilter()\u001b[39m masks \u001b[34mstats\u001b[39m::filter()\n",
      "\u001b[31m✖\u001b[39m \u001b[34mdplyr\u001b[39m::\u001b[32mlag()\u001b[39m    masks \u001b[34mstats\u001b[39m::lag()\n",
      "\n"
     ]
    }
   ],
   "source": [
    "library('tidyverse')"
   ]
  },
  {
   "cell_type": "code",
   "execution_count": 2,
   "metadata": {},
   "outputs": [
    {
     "data": {
      "text/html": [
       "<table>\n",
       "<caption>A data.frame: 6 × 7</caption>\n",
       "<thead>\n",
       "\t<tr><th></th><th scope=col>year</th><th scope=col>name</th><th scope=col>country</th><th scope=col>time</th><th scope=col>race.time</th><th scope=col>MF</th><th scope=col>country.simple</th></tr>\n",
       "\t<tr><th></th><th scope=col>&lt;int&gt;</th><th scope=col>&lt;chr&gt;</th><th scope=col>&lt;chr&gt;</th><th scope=col>&lt;chr&gt;</th><th scope=col>&lt;dbl&gt;</th><th scope=col>&lt;chr&gt;</th><th scope=col>&lt;chr&gt;</th></tr>\n",
       "</thead>\n",
       "<tbody>\n",
       "\t<tr><th scope=row>1</th><td>2019</td><td>Lawrence Cherono          </td><td>Kenya        </td><td>2H 7M 57S </td><td>2.132500</td><td>Men's</td><td>Kenya        </td></tr>\n",
       "\t<tr><th scope=row>2</th><td>2018</td><td>Yuki Kawauchi             </td><td>Japan        </td><td>2H 15M 58S</td><td>2.266111</td><td>Men's</td><td>Japan        </td></tr>\n",
       "\t<tr><th scope=row>3</th><td>2017</td><td>Geoffrey Kirui            </td><td>Kenya        </td><td>2H 9M 37S </td><td>2.160278</td><td>Men's</td><td>Kenya        </td></tr>\n",
       "\t<tr><th scope=row>4</th><td>2016</td><td>Lemi Berhanu              </td><td>Ethiopia     </td><td>2H 12M 45S</td><td>2.212500</td><td>Men's</td><td>Ethiopia     </td></tr>\n",
       "\t<tr><th scope=row>5</th><td>2015</td><td>Lelisa Desisa             </td><td>Ethiopia     </td><td>2H 9M 17S </td><td>2.154722</td><td>Men's</td><td>Ethiopia     </td></tr>\n",
       "\t<tr><th scope=row>6</th><td>2014</td><td>Mebrahtom \"Meb\" Keflezighi</td><td>United States</td><td>2H 8M 37S </td><td>2.143611</td><td>Men's</td><td>United States</td></tr>\n",
       "</tbody>\n",
       "</table>\n"
      ],
      "text/latex": [
       "A data.frame: 6 × 7\n",
       "\\begin{tabular}{r|lllllll}\n",
       "  & year & name & country & time & race.time & MF & country.simple\\\\\n",
       "  & <int> & <chr> & <chr> & <chr> & <dbl> & <chr> & <chr>\\\\\n",
       "\\hline\n",
       "\t1 & 2019 & Lawrence Cherono           & Kenya         & 2H 7M 57S  & 2.132500 & Men's & Kenya        \\\\\n",
       "\t2 & 2018 & Yuki Kawauchi              & Japan         & 2H 15M 58S & 2.266111 & Men's & Japan        \\\\\n",
       "\t3 & 2017 & Geoffrey Kirui             & Kenya         & 2H 9M 37S  & 2.160278 & Men's & Kenya        \\\\\n",
       "\t4 & 2016 & Lemi Berhanu               & Ethiopia      & 2H 12M 45S & 2.212500 & Men's & Ethiopia     \\\\\n",
       "\t5 & 2015 & Lelisa Desisa              & Ethiopia      & 2H 9M 17S  & 2.154722 & Men's & Ethiopia     \\\\\n",
       "\t6 & 2014 & Mebrahtom \"Meb\" Keflezighi & United States & 2H 8M 37S  & 2.143611 & Men's & United States\\\\\n",
       "\\end{tabular}\n"
      ],
      "text/markdown": [
       "\n",
       "A data.frame: 6 × 7\n",
       "\n",
       "| <!--/--> | year &lt;int&gt; | name &lt;chr&gt; | country &lt;chr&gt; | time &lt;chr&gt; | race.time &lt;dbl&gt; | MF &lt;chr&gt; | country.simple &lt;chr&gt; |\n",
       "|---|---|---|---|---|---|---|---|\n",
       "| 1 | 2019 | Lawrence Cherono           | Kenya         | 2H 7M 57S  | 2.132500 | Men's | Kenya         |\n",
       "| 2 | 2018 | Yuki Kawauchi              | Japan         | 2H 15M 58S | 2.266111 | Men's | Japan         |\n",
       "| 3 | 2017 | Geoffrey Kirui             | Kenya         | 2H 9M 37S  | 2.160278 | Men's | Kenya         |\n",
       "| 4 | 2016 | Lemi Berhanu               | Ethiopia      | 2H 12M 45S | 2.212500 | Men's | Ethiopia      |\n",
       "| 5 | 2015 | Lelisa Desisa              | Ethiopia      | 2H 9M 17S  | 2.154722 | Men's | Ethiopia      |\n",
       "| 6 | 2014 | Mebrahtom \"Meb\" Keflezighi | United States | 2H 8M 37S  | 2.143611 | Men's | United States |\n",
       "\n"
      ],
      "text/plain": [
       "  year name                       country       time       race.time MF   \n",
       "1 2019 Lawrence Cherono           Kenya         2H 7M 57S  2.132500  Men's\n",
       "2 2018 Yuki Kawauchi              Japan         2H 15M 58S 2.266111  Men's\n",
       "3 2017 Geoffrey Kirui             Kenya         2H 9M 37S  2.160278  Men's\n",
       "4 2016 Lemi Berhanu               Ethiopia      2H 12M 45S 2.212500  Men's\n",
       "5 2015 Lelisa Desisa              Ethiopia      2H 9M 17S  2.154722  Men's\n",
       "6 2014 Mebrahtom \"Meb\" Keflezighi United States 2H 8M 37S  2.143611  Men's\n",
       "  country.simple\n",
       "1 Kenya         \n",
       "2 Japan         \n",
       "3 Kenya         \n",
       "4 Ethiopia      \n",
       "5 Ethiopia      \n",
       "6 United States "
      ]
     },
     "metadata": {},
     "output_type": "display_data"
    }
   ],
   "source": [
    "df.marathon = read.csv('../data/marathon.csv')\n",
    "df.marathon %>% head"
   ]
  },
  {
   "cell_type": "markdown",
   "metadata": {},
   "source": [
    "# Filter"
   ]
  },
  {
   "cell_type": "markdown",
   "metadata": {},
   "source": [
    "- the filter operation does exactly what you expect given its name."
   ]
  },
  {
   "cell_type": "code",
   "execution_count": 3,
   "metadata": {},
   "outputs": [
    {
     "data": {
      "text/html": [
       "<table>\n",
       "<caption>A data.frame: 16 × 5</caption>\n",
       "<thead>\n",
       "\t<tr><th scope=col>Sepal.Length</th><th scope=col>Sepal.Width</th><th scope=col>Petal.Length</th><th scope=col>Petal.Width</th><th scope=col>Species</th></tr>\n",
       "\t<tr><th scope=col>&lt;dbl&gt;</th><th scope=col>&lt;dbl&gt;</th><th scope=col>&lt;dbl&gt;</th><th scope=col>&lt;dbl&gt;</th><th scope=col>&lt;fct&gt;</th></tr>\n",
       "</thead>\n",
       "<tbody>\n",
       "\t<tr><td>5.4</td><td>3.9</td><td>1.7</td><td>0.4</td><td>setosa</td></tr>\n",
       "\t<tr><td>4.6</td><td>3.4</td><td>1.4</td><td>0.3</td><td>setosa</td></tr>\n",
       "\t<tr><td>5.7</td><td>4.4</td><td>1.5</td><td>0.4</td><td>setosa</td></tr>\n",
       "\t<tr><td>5.4</td><td>3.9</td><td>1.3</td><td>0.4</td><td>setosa</td></tr>\n",
       "\t<tr><td>5.1</td><td>3.5</td><td>1.4</td><td>0.3</td><td>setosa</td></tr>\n",
       "\t<tr><td>5.7</td><td>3.8</td><td>1.7</td><td>0.3</td><td>setosa</td></tr>\n",
       "\t<tr><td>5.1</td><td>3.8</td><td>1.5</td><td>0.3</td><td>setosa</td></tr>\n",
       "\t<tr><td>5.1</td><td>3.7</td><td>1.5</td><td>0.4</td><td>setosa</td></tr>\n",
       "\t<tr><td>5.1</td><td>3.3</td><td>1.7</td><td>0.5</td><td>setosa</td></tr>\n",
       "\t<tr><td>5.0</td><td>3.4</td><td>1.6</td><td>0.4</td><td>setosa</td></tr>\n",
       "\t<tr><td>5.4</td><td>3.4</td><td>1.5</td><td>0.4</td><td>setosa</td></tr>\n",
       "\t<tr><td>5.0</td><td>3.5</td><td>1.3</td><td>0.3</td><td>setosa</td></tr>\n",
       "\t<tr><td>4.5</td><td>2.3</td><td>1.3</td><td>0.3</td><td>setosa</td></tr>\n",
       "\t<tr><td>5.0</td><td>3.5</td><td>1.6</td><td>0.6</td><td>setosa</td></tr>\n",
       "\t<tr><td>5.1</td><td>3.8</td><td>1.9</td><td>0.4</td><td>setosa</td></tr>\n",
       "\t<tr><td>4.8</td><td>3.0</td><td>1.4</td><td>0.3</td><td>setosa</td></tr>\n",
       "</tbody>\n",
       "</table>\n"
      ],
      "text/latex": [
       "A data.frame: 16 × 5\n",
       "\\begin{tabular}{lllll}\n",
       " Sepal.Length & Sepal.Width & Petal.Length & Petal.Width & Species\\\\\n",
       " <dbl> & <dbl> & <dbl> & <dbl> & <fct>\\\\\n",
       "\\hline\n",
       "\t 5.4 & 3.9 & 1.7 & 0.4 & setosa\\\\\n",
       "\t 4.6 & 3.4 & 1.4 & 0.3 & setosa\\\\\n",
       "\t 5.7 & 4.4 & 1.5 & 0.4 & setosa\\\\\n",
       "\t 5.4 & 3.9 & 1.3 & 0.4 & setosa\\\\\n",
       "\t 5.1 & 3.5 & 1.4 & 0.3 & setosa\\\\\n",
       "\t 5.7 & 3.8 & 1.7 & 0.3 & setosa\\\\\n",
       "\t 5.1 & 3.8 & 1.5 & 0.3 & setosa\\\\\n",
       "\t 5.1 & 3.7 & 1.5 & 0.4 & setosa\\\\\n",
       "\t 5.1 & 3.3 & 1.7 & 0.5 & setosa\\\\\n",
       "\t 5.0 & 3.4 & 1.6 & 0.4 & setosa\\\\\n",
       "\t 5.4 & 3.4 & 1.5 & 0.4 & setosa\\\\\n",
       "\t 5.0 & 3.5 & 1.3 & 0.3 & setosa\\\\\n",
       "\t 4.5 & 2.3 & 1.3 & 0.3 & setosa\\\\\n",
       "\t 5.0 & 3.5 & 1.6 & 0.6 & setosa\\\\\n",
       "\t 5.1 & 3.8 & 1.9 & 0.4 & setosa\\\\\n",
       "\t 4.8 & 3.0 & 1.4 & 0.3 & setosa\\\\\n",
       "\\end{tabular}\n"
      ],
      "text/markdown": [
       "\n",
       "A data.frame: 16 × 5\n",
       "\n",
       "| Sepal.Length &lt;dbl&gt; | Sepal.Width &lt;dbl&gt; | Petal.Length &lt;dbl&gt; | Petal.Width &lt;dbl&gt; | Species &lt;fct&gt; |\n",
       "|---|---|---|---|---|\n",
       "| 5.4 | 3.9 | 1.7 | 0.4 | setosa |\n",
       "| 4.6 | 3.4 | 1.4 | 0.3 | setosa |\n",
       "| 5.7 | 4.4 | 1.5 | 0.4 | setosa |\n",
       "| 5.4 | 3.9 | 1.3 | 0.4 | setosa |\n",
       "| 5.1 | 3.5 | 1.4 | 0.3 | setosa |\n",
       "| 5.7 | 3.8 | 1.7 | 0.3 | setosa |\n",
       "| 5.1 | 3.8 | 1.5 | 0.3 | setosa |\n",
       "| 5.1 | 3.7 | 1.5 | 0.4 | setosa |\n",
       "| 5.1 | 3.3 | 1.7 | 0.5 | setosa |\n",
       "| 5.0 | 3.4 | 1.6 | 0.4 | setosa |\n",
       "| 5.4 | 3.4 | 1.5 | 0.4 | setosa |\n",
       "| 5.0 | 3.5 | 1.3 | 0.3 | setosa |\n",
       "| 4.5 | 2.3 | 1.3 | 0.3 | setosa |\n",
       "| 5.0 | 3.5 | 1.6 | 0.6 | setosa |\n",
       "| 5.1 | 3.8 | 1.9 | 0.4 | setosa |\n",
       "| 4.8 | 3.0 | 1.4 | 0.3 | setosa |\n",
       "\n"
      ],
      "text/plain": [
       "   Sepal.Length Sepal.Width Petal.Length Petal.Width Species\n",
       "1  5.4          3.9         1.7          0.4         setosa \n",
       "2  4.6          3.4         1.4          0.3         setosa \n",
       "3  5.7          4.4         1.5          0.4         setosa \n",
       "4  5.4          3.9         1.3          0.4         setosa \n",
       "5  5.1          3.5         1.4          0.3         setosa \n",
       "6  5.7          3.8         1.7          0.3         setosa \n",
       "7  5.1          3.8         1.5          0.3         setosa \n",
       "8  5.1          3.7         1.5          0.4         setosa \n",
       "9  5.1          3.3         1.7          0.5         setosa \n",
       "10 5.0          3.4         1.6          0.4         setosa \n",
       "11 5.4          3.4         1.5          0.4         setosa \n",
       "12 5.0          3.5         1.3          0.3         setosa \n",
       "13 4.5          2.3         1.3          0.3         setosa \n",
       "14 5.0          3.5         1.6          0.6         setosa \n",
       "15 5.1          3.8         1.9          0.4         setosa \n",
       "16 4.8          3.0         1.4          0.3         setosa "
      ]
     },
     "metadata": {},
     "output_type": "display_data"
    }
   ],
   "source": [
    "# e.g.\n",
    "\n",
    "iris %>% filter(Species == 'setosa', Petal.Width > 0.2)"
   ]
  },
  {
   "cell_type": "markdown",
   "metadata": {},
   "source": [
    "- The syntax for the `equals` operator in R is `==`.\n",
    "- Greater than (`>` or `>=`) and less than (`<` or `<=`) are intuitive.\n",
    "- You can fitler on multiple columns by adding arguments to the filter operation."
   ]
  },
  {
   "cell_type": "markdown",
   "metadata": {},
   "source": [
    "Filter the marathon data to just the runners from Kenya."
   ]
  },
  {
   "cell_type": "code",
   "execution_count": 4,
   "metadata": {},
   "outputs": [
    {
     "data": {
      "text/html": [
       "<table>\n",
       "<caption>A data.frame: 34 × 7</caption>\n",
       "<thead>\n",
       "\t<tr><th scope=col>year</th><th scope=col>name</th><th scope=col>country</th><th scope=col>time</th><th scope=col>race.time</th><th scope=col>MF</th><th scope=col>country.simple</th></tr>\n",
       "\t<tr><th scope=col>&lt;int&gt;</th><th scope=col>&lt;chr&gt;</th><th scope=col>&lt;chr&gt;</th><th scope=col>&lt;chr&gt;</th><th scope=col>&lt;dbl&gt;</th><th scope=col>&lt;chr&gt;</th><th scope=col>&lt;chr&gt;</th></tr>\n",
       "</thead>\n",
       "<tbody>\n",
       "\t<tr><td>2019</td><td>Lawrence Cherono         </td><td>Kenya</td><td>2H 7M 57S </td><td>2.132500</td><td>Men's  </td><td>Kenya</td></tr>\n",
       "\t<tr><td>2017</td><td>Geoffrey Kirui           </td><td>Kenya</td><td>2H 9M 37S </td><td>2.160278</td><td>Men's  </td><td>Kenya</td></tr>\n",
       "\t<tr><td>2012</td><td>Wesley Korir             </td><td>Kenya</td><td>2H 12M 40S</td><td>2.211111</td><td>Men's  </td><td>Kenya</td></tr>\n",
       "\t<tr><td>2011</td><td>Geoffrey Mutai           </td><td>Kenya</td><td>2H 3M 2S  </td><td>2.050556</td><td>Men's  </td><td>Kenya</td></tr>\n",
       "\t<tr><td>2010</td><td>Robert Kiprono Cheruiyot </td><td>Kenya</td><td>2H 5M 52S </td><td>2.097778</td><td>Men's  </td><td>Kenya</td></tr>\n",
       "\t<tr><td>2008</td><td>Robert Kipkoech Cheruiyot</td><td>Kenya</td><td>2H 7M 46S </td><td>2.129444</td><td>Men's  </td><td>Kenya</td></tr>\n",
       "\t<tr><td>2007</td><td>Robert Kipkoech Cheruiyot</td><td>Kenya</td><td>2H 14M 13S</td><td>2.236944</td><td>Men's  </td><td>Kenya</td></tr>\n",
       "\t<tr><td>2006</td><td>Robert Kipkoech Cheruiyot</td><td>Kenya</td><td>2H 7M 14S </td><td>2.120556</td><td>Men's  </td><td>Kenya</td></tr>\n",
       "\t<tr><td>2004</td><td>Timothy Cherigat         </td><td>Kenya</td><td>2H 10M 37S</td><td>2.176944</td><td>Men's  </td><td>Kenya</td></tr>\n",
       "\t<tr><td>2003</td><td>Robert Kipkoech Cheruiyot</td><td>Kenya</td><td>2H 10M 11S</td><td>2.169722</td><td>Men's  </td><td>Kenya</td></tr>\n",
       "\t<tr><td>2002</td><td>Rodgers Rop              </td><td>Kenya</td><td>2H 9M 2S  </td><td>2.150556</td><td>Men's  </td><td>Kenya</td></tr>\n",
       "\t<tr><td>2000</td><td>Elijah Lagat             </td><td>Kenya</td><td>2H 9M 47S </td><td>2.163056</td><td>Men's  </td><td>Kenya</td></tr>\n",
       "\t<tr><td>1999</td><td>Joseph Chebet            </td><td>Kenya</td><td>2H 9M 52S </td><td>2.164444</td><td>Men's  </td><td>Kenya</td></tr>\n",
       "\t<tr><td>1998</td><td>Moses Tanui              </td><td>Kenya</td><td>2H 7M 34S </td><td>2.126111</td><td>Men's  </td><td>Kenya</td></tr>\n",
       "\t<tr><td>1997</td><td>Lameck Aguta             </td><td>Kenya</td><td>2H 10M 34S</td><td>2.176111</td><td>Men's  </td><td>Kenya</td></tr>\n",
       "\t<tr><td>1996</td><td>Moses Tanui              </td><td>Kenya</td><td>2H 9M 15S </td><td>2.154167</td><td>Men's  </td><td>Kenya</td></tr>\n",
       "\t<tr><td>1995</td><td>Cosmas Ndeti             </td><td>Kenya</td><td>2H 9M 22S </td><td>2.156111</td><td>Men's  </td><td>Kenya</td></tr>\n",
       "\t<tr><td>1994</td><td>Cosmas Ndeti             </td><td>Kenya</td><td>2H 7M 15S </td><td>2.120833</td><td>Men's  </td><td>Kenya</td></tr>\n",
       "\t<tr><td>1993</td><td>Cosmas Ndeti             </td><td>Kenya</td><td>2H 9M 33S </td><td>2.159167</td><td>Men's  </td><td>Kenya</td></tr>\n",
       "\t<tr><td>1992</td><td>Ibrahim Hussein          </td><td>Kenya</td><td>2H 8M 14S </td><td>2.137222</td><td>Men's  </td><td>Kenya</td></tr>\n",
       "\t<tr><td>1991</td><td>Ibrahim Hussein          </td><td>Kenya</td><td>2H 11M 6S </td><td>2.185000</td><td>Men's  </td><td>Kenya</td></tr>\n",
       "\t<tr><td>1988</td><td>Ibrahim Hussein          </td><td>Kenya</td><td>2H 8M 43S </td><td>2.145278</td><td>Men's  </td><td>Kenya</td></tr>\n",
       "\t<tr><td>2017</td><td>Edna Kiplagat            </td><td>Kenya</td><td>2H 21M 52S</td><td>2.364444</td><td>Women's</td><td>Kenya</td></tr>\n",
       "\t<tr><td>2015</td><td>Caroline Rotich          </td><td>Kenya</td><td>2H 24M 55S</td><td>2.415278</td><td>Women's</td><td>Kenya</td></tr>\n",
       "\t<tr><td>2013</td><td>Rita Jeptoo              </td><td>Kenya</td><td>2H 26M 25S</td><td>2.440278</td><td>Women's</td><td>Kenya</td></tr>\n",
       "\t<tr><td>2012</td><td>Sharon Cherop            </td><td>Kenya</td><td>2H 31M 50S</td><td>2.530556</td><td>Women's</td><td>Kenya</td></tr>\n",
       "\t<tr><td>2011</td><td>Caroline Kilel           </td><td>Kenya</td><td>2H 22M 36S</td><td>2.376667</td><td>Women's</td><td>Kenya</td></tr>\n",
       "\t<tr><td>2009</td><td>Salina Kosgei            </td><td>Kenya</td><td>2H 32M 16S</td><td>2.537778</td><td>Women's</td><td>Kenya</td></tr>\n",
       "\t<tr><td>2006</td><td>Rita Jeptoo              </td><td>Kenya</td><td>2H 23M 38S</td><td>2.393889</td><td>Women's</td><td>Kenya</td></tr>\n",
       "\t<tr><td>2005</td><td>Catherine Ndereba        </td><td>Kenya</td><td>2H 25M 13S</td><td>2.420278</td><td>Women's</td><td>Kenya</td></tr>\n",
       "\t<tr><td>2004</td><td>Catherine Ndereba        </td><td>Kenya</td><td>2H 24M 27S</td><td>2.407500</td><td>Women's</td><td>Kenya</td></tr>\n",
       "\t<tr><td>2002</td><td>Margaret Okayo           </td><td>Kenya</td><td>2H 20M 43S</td><td>2.345278</td><td>Women's</td><td>Kenya</td></tr>\n",
       "\t<tr><td>2001</td><td>Catherine Ndereba        </td><td>Kenya</td><td>2H 23M 53S</td><td>2.398056</td><td>Women's</td><td>Kenya</td></tr>\n",
       "\t<tr><td>2000</td><td>Catherine Ndereba        </td><td>Kenya</td><td>2H 26M 11S</td><td>2.436389</td><td>Women's</td><td>Kenya</td></tr>\n",
       "</tbody>\n",
       "</table>\n"
      ],
      "text/latex": [
       "A data.frame: 34 × 7\n",
       "\\begin{tabular}{lllllll}\n",
       " year & name & country & time & race.time & MF & country.simple\\\\\n",
       " <int> & <chr> & <chr> & <chr> & <dbl> & <chr> & <chr>\\\\\n",
       "\\hline\n",
       "\t 2019 & Lawrence Cherono          & Kenya & 2H 7M 57S  & 2.132500 & Men's   & Kenya\\\\\n",
       "\t 2017 & Geoffrey Kirui            & Kenya & 2H 9M 37S  & 2.160278 & Men's   & Kenya\\\\\n",
       "\t 2012 & Wesley Korir              & Kenya & 2H 12M 40S & 2.211111 & Men's   & Kenya\\\\\n",
       "\t 2011 & Geoffrey Mutai            & Kenya & 2H 3M 2S   & 2.050556 & Men's   & Kenya\\\\\n",
       "\t 2010 & Robert Kiprono Cheruiyot  & Kenya & 2H 5M 52S  & 2.097778 & Men's   & Kenya\\\\\n",
       "\t 2008 & Robert Kipkoech Cheruiyot & Kenya & 2H 7M 46S  & 2.129444 & Men's   & Kenya\\\\\n",
       "\t 2007 & Robert Kipkoech Cheruiyot & Kenya & 2H 14M 13S & 2.236944 & Men's   & Kenya\\\\\n",
       "\t 2006 & Robert Kipkoech Cheruiyot & Kenya & 2H 7M 14S  & 2.120556 & Men's   & Kenya\\\\\n",
       "\t 2004 & Timothy Cherigat          & Kenya & 2H 10M 37S & 2.176944 & Men's   & Kenya\\\\\n",
       "\t 2003 & Robert Kipkoech Cheruiyot & Kenya & 2H 10M 11S & 2.169722 & Men's   & Kenya\\\\\n",
       "\t 2002 & Rodgers Rop               & Kenya & 2H 9M 2S   & 2.150556 & Men's   & Kenya\\\\\n",
       "\t 2000 & Elijah Lagat              & Kenya & 2H 9M 47S  & 2.163056 & Men's   & Kenya\\\\\n",
       "\t 1999 & Joseph Chebet             & Kenya & 2H 9M 52S  & 2.164444 & Men's   & Kenya\\\\\n",
       "\t 1998 & Moses Tanui               & Kenya & 2H 7M 34S  & 2.126111 & Men's   & Kenya\\\\\n",
       "\t 1997 & Lameck Aguta              & Kenya & 2H 10M 34S & 2.176111 & Men's   & Kenya\\\\\n",
       "\t 1996 & Moses Tanui               & Kenya & 2H 9M 15S  & 2.154167 & Men's   & Kenya\\\\\n",
       "\t 1995 & Cosmas Ndeti              & Kenya & 2H 9M 22S  & 2.156111 & Men's   & Kenya\\\\\n",
       "\t 1994 & Cosmas Ndeti              & Kenya & 2H 7M 15S  & 2.120833 & Men's   & Kenya\\\\\n",
       "\t 1993 & Cosmas Ndeti              & Kenya & 2H 9M 33S  & 2.159167 & Men's   & Kenya\\\\\n",
       "\t 1992 & Ibrahim Hussein           & Kenya & 2H 8M 14S  & 2.137222 & Men's   & Kenya\\\\\n",
       "\t 1991 & Ibrahim Hussein           & Kenya & 2H 11M 6S  & 2.185000 & Men's   & Kenya\\\\\n",
       "\t 1988 & Ibrahim Hussein           & Kenya & 2H 8M 43S  & 2.145278 & Men's   & Kenya\\\\\n",
       "\t 2017 & Edna Kiplagat             & Kenya & 2H 21M 52S & 2.364444 & Women's & Kenya\\\\\n",
       "\t 2015 & Caroline Rotich           & Kenya & 2H 24M 55S & 2.415278 & Women's & Kenya\\\\\n",
       "\t 2013 & Rita Jeptoo               & Kenya & 2H 26M 25S & 2.440278 & Women's & Kenya\\\\\n",
       "\t 2012 & Sharon Cherop             & Kenya & 2H 31M 50S & 2.530556 & Women's & Kenya\\\\\n",
       "\t 2011 & Caroline Kilel            & Kenya & 2H 22M 36S & 2.376667 & Women's & Kenya\\\\\n",
       "\t 2009 & Salina Kosgei             & Kenya & 2H 32M 16S & 2.537778 & Women's & Kenya\\\\\n",
       "\t 2006 & Rita Jeptoo               & Kenya & 2H 23M 38S & 2.393889 & Women's & Kenya\\\\\n",
       "\t 2005 & Catherine Ndereba         & Kenya & 2H 25M 13S & 2.420278 & Women's & Kenya\\\\\n",
       "\t 2004 & Catherine Ndereba         & Kenya & 2H 24M 27S & 2.407500 & Women's & Kenya\\\\\n",
       "\t 2002 & Margaret Okayo            & Kenya & 2H 20M 43S & 2.345278 & Women's & Kenya\\\\\n",
       "\t 2001 & Catherine Ndereba         & Kenya & 2H 23M 53S & 2.398056 & Women's & Kenya\\\\\n",
       "\t 2000 & Catherine Ndereba         & Kenya & 2H 26M 11S & 2.436389 & Women's & Kenya\\\\\n",
       "\\end{tabular}\n"
      ],
      "text/markdown": [
       "\n",
       "A data.frame: 34 × 7\n",
       "\n",
       "| year &lt;int&gt; | name &lt;chr&gt; | country &lt;chr&gt; | time &lt;chr&gt; | race.time &lt;dbl&gt; | MF &lt;chr&gt; | country.simple &lt;chr&gt; |\n",
       "|---|---|---|---|---|---|---|\n",
       "| 2019 | Lawrence Cherono          | Kenya | 2H 7M 57S  | 2.132500 | Men's   | Kenya |\n",
       "| 2017 | Geoffrey Kirui            | Kenya | 2H 9M 37S  | 2.160278 | Men's   | Kenya |\n",
       "| 2012 | Wesley Korir              | Kenya | 2H 12M 40S | 2.211111 | Men's   | Kenya |\n",
       "| 2011 | Geoffrey Mutai            | Kenya | 2H 3M 2S   | 2.050556 | Men's   | Kenya |\n",
       "| 2010 | Robert Kiprono Cheruiyot  | Kenya | 2H 5M 52S  | 2.097778 | Men's   | Kenya |\n",
       "| 2008 | Robert Kipkoech Cheruiyot | Kenya | 2H 7M 46S  | 2.129444 | Men's   | Kenya |\n",
       "| 2007 | Robert Kipkoech Cheruiyot | Kenya | 2H 14M 13S | 2.236944 | Men's   | Kenya |\n",
       "| 2006 | Robert Kipkoech Cheruiyot | Kenya | 2H 7M 14S  | 2.120556 | Men's   | Kenya |\n",
       "| 2004 | Timothy Cherigat          | Kenya | 2H 10M 37S | 2.176944 | Men's   | Kenya |\n",
       "| 2003 | Robert Kipkoech Cheruiyot | Kenya | 2H 10M 11S | 2.169722 | Men's   | Kenya |\n",
       "| 2002 | Rodgers Rop               | Kenya | 2H 9M 2S   | 2.150556 | Men's   | Kenya |\n",
       "| 2000 | Elijah Lagat              | Kenya | 2H 9M 47S  | 2.163056 | Men's   | Kenya |\n",
       "| 1999 | Joseph Chebet             | Kenya | 2H 9M 52S  | 2.164444 | Men's   | Kenya |\n",
       "| 1998 | Moses Tanui               | Kenya | 2H 7M 34S  | 2.126111 | Men's   | Kenya |\n",
       "| 1997 | Lameck Aguta              | Kenya | 2H 10M 34S | 2.176111 | Men's   | Kenya |\n",
       "| 1996 | Moses Tanui               | Kenya | 2H 9M 15S  | 2.154167 | Men's   | Kenya |\n",
       "| 1995 | Cosmas Ndeti              | Kenya | 2H 9M 22S  | 2.156111 | Men's   | Kenya |\n",
       "| 1994 | Cosmas Ndeti              | Kenya | 2H 7M 15S  | 2.120833 | Men's   | Kenya |\n",
       "| 1993 | Cosmas Ndeti              | Kenya | 2H 9M 33S  | 2.159167 | Men's   | Kenya |\n",
       "| 1992 | Ibrahim Hussein           | Kenya | 2H 8M 14S  | 2.137222 | Men's   | Kenya |\n",
       "| 1991 | Ibrahim Hussein           | Kenya | 2H 11M 6S  | 2.185000 | Men's   | Kenya |\n",
       "| 1988 | Ibrahim Hussein           | Kenya | 2H 8M 43S  | 2.145278 | Men's   | Kenya |\n",
       "| 2017 | Edna Kiplagat             | Kenya | 2H 21M 52S | 2.364444 | Women's | Kenya |\n",
       "| 2015 | Caroline Rotich           | Kenya | 2H 24M 55S | 2.415278 | Women's | Kenya |\n",
       "| 2013 | Rita Jeptoo               | Kenya | 2H 26M 25S | 2.440278 | Women's | Kenya |\n",
       "| 2012 | Sharon Cherop             | Kenya | 2H 31M 50S | 2.530556 | Women's | Kenya |\n",
       "| 2011 | Caroline Kilel            | Kenya | 2H 22M 36S | 2.376667 | Women's | Kenya |\n",
       "| 2009 | Salina Kosgei             | Kenya | 2H 32M 16S | 2.537778 | Women's | Kenya |\n",
       "| 2006 | Rita Jeptoo               | Kenya | 2H 23M 38S | 2.393889 | Women's | Kenya |\n",
       "| 2005 | Catherine Ndereba         | Kenya | 2H 25M 13S | 2.420278 | Women's | Kenya |\n",
       "| 2004 | Catherine Ndereba         | Kenya | 2H 24M 27S | 2.407500 | Women's | Kenya |\n",
       "| 2002 | Margaret Okayo            | Kenya | 2H 20M 43S | 2.345278 | Women's | Kenya |\n",
       "| 2001 | Catherine Ndereba         | Kenya | 2H 23M 53S | 2.398056 | Women's | Kenya |\n",
       "| 2000 | Catherine Ndereba         | Kenya | 2H 26M 11S | 2.436389 | Women's | Kenya |\n",
       "\n"
      ],
      "text/plain": [
       "   year name                      country time       race.time MF     \n",
       "1  2019 Lawrence Cherono          Kenya   2H 7M 57S  2.132500  Men's  \n",
       "2  2017 Geoffrey Kirui            Kenya   2H 9M 37S  2.160278  Men's  \n",
       "3  2012 Wesley Korir              Kenya   2H 12M 40S 2.211111  Men's  \n",
       "4  2011 Geoffrey Mutai            Kenya   2H 3M 2S   2.050556  Men's  \n",
       "5  2010 Robert Kiprono Cheruiyot  Kenya   2H 5M 52S  2.097778  Men's  \n",
       "6  2008 Robert Kipkoech Cheruiyot Kenya   2H 7M 46S  2.129444  Men's  \n",
       "7  2007 Robert Kipkoech Cheruiyot Kenya   2H 14M 13S 2.236944  Men's  \n",
       "8  2006 Robert Kipkoech Cheruiyot Kenya   2H 7M 14S  2.120556  Men's  \n",
       "9  2004 Timothy Cherigat          Kenya   2H 10M 37S 2.176944  Men's  \n",
       "10 2003 Robert Kipkoech Cheruiyot Kenya   2H 10M 11S 2.169722  Men's  \n",
       "11 2002 Rodgers Rop               Kenya   2H 9M 2S   2.150556  Men's  \n",
       "12 2000 Elijah Lagat              Kenya   2H 9M 47S  2.163056  Men's  \n",
       "13 1999 Joseph Chebet             Kenya   2H 9M 52S  2.164444  Men's  \n",
       "14 1998 Moses Tanui               Kenya   2H 7M 34S  2.126111  Men's  \n",
       "15 1997 Lameck Aguta              Kenya   2H 10M 34S 2.176111  Men's  \n",
       "16 1996 Moses Tanui               Kenya   2H 9M 15S  2.154167  Men's  \n",
       "17 1995 Cosmas Ndeti              Kenya   2H 9M 22S  2.156111  Men's  \n",
       "18 1994 Cosmas Ndeti              Kenya   2H 7M 15S  2.120833  Men's  \n",
       "19 1993 Cosmas Ndeti              Kenya   2H 9M 33S  2.159167  Men's  \n",
       "20 1992 Ibrahim Hussein           Kenya   2H 8M 14S  2.137222  Men's  \n",
       "21 1991 Ibrahim Hussein           Kenya   2H 11M 6S  2.185000  Men's  \n",
       "22 1988 Ibrahim Hussein           Kenya   2H 8M 43S  2.145278  Men's  \n",
       "23 2017 Edna Kiplagat             Kenya   2H 21M 52S 2.364444  Women's\n",
       "24 2015 Caroline Rotich           Kenya   2H 24M 55S 2.415278  Women's\n",
       "25 2013 Rita Jeptoo               Kenya   2H 26M 25S 2.440278  Women's\n",
       "26 2012 Sharon Cherop             Kenya   2H 31M 50S 2.530556  Women's\n",
       "27 2011 Caroline Kilel            Kenya   2H 22M 36S 2.376667  Women's\n",
       "28 2009 Salina Kosgei             Kenya   2H 32M 16S 2.537778  Women's\n",
       "29 2006 Rita Jeptoo               Kenya   2H 23M 38S 2.393889  Women's\n",
       "30 2005 Catherine Ndereba         Kenya   2H 25M 13S 2.420278  Women's\n",
       "31 2004 Catherine Ndereba         Kenya   2H 24M 27S 2.407500  Women's\n",
       "32 2002 Margaret Okayo            Kenya   2H 20M 43S 2.345278  Women's\n",
       "33 2001 Catherine Ndereba         Kenya   2H 23M 53S 2.398056  Women's\n",
       "34 2000 Catherine Ndereba         Kenya   2H 26M 11S 2.436389  Women's\n",
       "   country.simple\n",
       "1  Kenya         \n",
       "2  Kenya         \n",
       "3  Kenya         \n",
       "4  Kenya         \n",
       "5  Kenya         \n",
       "6  Kenya         \n",
       "7  Kenya         \n",
       "8  Kenya         \n",
       "9  Kenya         \n",
       "10 Kenya         \n",
       "11 Kenya         \n",
       "12 Kenya         \n",
       "13 Kenya         \n",
       "14 Kenya         \n",
       "15 Kenya         \n",
       "16 Kenya         \n",
       "17 Kenya         \n",
       "18 Kenya         \n",
       "19 Kenya         \n",
       "20 Kenya         \n",
       "21 Kenya         \n",
       "22 Kenya         \n",
       "23 Kenya         \n",
       "24 Kenya         \n",
       "25 Kenya         \n",
       "26 Kenya         \n",
       "27 Kenya         \n",
       "28 Kenya         \n",
       "29 Kenya         \n",
       "30 Kenya         \n",
       "31 Kenya         \n",
       "32 Kenya         \n",
       "33 Kenya         \n",
       "34 Kenya         "
      ]
     },
     "metadata": {},
     "output_type": "display_data"
    }
   ],
   "source": [
    "df.marathon %>%\n",
    "    filter(country == 'Kenya')"
   ]
  },
  {
   "cell_type": "markdown",
   "metadata": {},
   "source": [
    "# Select"
   ]
  },
  {
   "cell_type": "markdown",
   "metadata": {},
   "source": [
    "- select let's you include/exclude columns."
   ]
  },
  {
   "cell_type": "code",
   "execution_count": 5,
   "metadata": {},
   "outputs": [
    {
     "data": {
      "text/html": [
       "<table>\n",
       "<caption>A data.frame: 6 × 2</caption>\n",
       "<thead>\n",
       "\t<tr><th></th><th scope=col>Species</th><th scope=col>Sepal.Length</th></tr>\n",
       "\t<tr><th></th><th scope=col>&lt;fct&gt;</th><th scope=col>&lt;dbl&gt;</th></tr>\n",
       "</thead>\n",
       "<tbody>\n",
       "\t<tr><th scope=row>1</th><td>setosa</td><td>5.1</td></tr>\n",
       "\t<tr><th scope=row>2</th><td>setosa</td><td>4.9</td></tr>\n",
       "\t<tr><th scope=row>3</th><td>setosa</td><td>4.7</td></tr>\n",
       "\t<tr><th scope=row>4</th><td>setosa</td><td>4.6</td></tr>\n",
       "\t<tr><th scope=row>5</th><td>setosa</td><td>5.0</td></tr>\n",
       "\t<tr><th scope=row>6</th><td>setosa</td><td>5.4</td></tr>\n",
       "</tbody>\n",
       "</table>\n"
      ],
      "text/latex": [
       "A data.frame: 6 × 2\n",
       "\\begin{tabular}{r|ll}\n",
       "  & Species & Sepal.Length\\\\\n",
       "  & <fct> & <dbl>\\\\\n",
       "\\hline\n",
       "\t1 & setosa & 5.1\\\\\n",
       "\t2 & setosa & 4.9\\\\\n",
       "\t3 & setosa & 4.7\\\\\n",
       "\t4 & setosa & 4.6\\\\\n",
       "\t5 & setosa & 5.0\\\\\n",
       "\t6 & setosa & 5.4\\\\\n",
       "\\end{tabular}\n"
      ],
      "text/markdown": [
       "\n",
       "A data.frame: 6 × 2\n",
       "\n",
       "| <!--/--> | Species &lt;fct&gt; | Sepal.Length &lt;dbl&gt; |\n",
       "|---|---|---|\n",
       "| 1 | setosa | 5.1 |\n",
       "| 2 | setosa | 4.9 |\n",
       "| 3 | setosa | 4.7 |\n",
       "| 4 | setosa | 4.6 |\n",
       "| 5 | setosa | 5.0 |\n",
       "| 6 | setosa | 5.4 |\n",
       "\n"
      ],
      "text/plain": [
       "  Species Sepal.Length\n",
       "1 setosa  5.1         \n",
       "2 setosa  4.9         \n",
       "3 setosa  4.7         \n",
       "4 setosa  4.6         \n",
       "5 setosa  5.0         \n",
       "6 setosa  5.4         "
      ]
     },
     "metadata": {},
     "output_type": "display_data"
    }
   ],
   "source": [
    "# e.g.\n",
    "\n",
    "iris %>% select(Species, Sepal.Length) %>% head"
   ]
  },
  {
   "cell_type": "markdown",
   "metadata": {},
   "source": [
    "Select just the columns that represent runner names and country from the marathon data."
   ]
  },
  {
   "cell_type": "code",
   "execution_count": 6,
   "metadata": {},
   "outputs": [
    {
     "data": {
      "text/html": [
       "<table>\n",
       "<caption>A data.frame: 6 × 2</caption>\n",
       "<thead>\n",
       "\t<tr><th></th><th scope=col>name</th><th scope=col>country</th></tr>\n",
       "\t<tr><th></th><th scope=col>&lt;chr&gt;</th><th scope=col>&lt;chr&gt;</th></tr>\n",
       "</thead>\n",
       "<tbody>\n",
       "\t<tr><th scope=row>1</th><td>Lawrence Cherono          </td><td>Kenya        </td></tr>\n",
       "\t<tr><th scope=row>2</th><td>Yuki Kawauchi             </td><td>Japan        </td></tr>\n",
       "\t<tr><th scope=row>3</th><td>Geoffrey Kirui            </td><td>Kenya        </td></tr>\n",
       "\t<tr><th scope=row>4</th><td>Lemi Berhanu              </td><td>Ethiopia     </td></tr>\n",
       "\t<tr><th scope=row>5</th><td>Lelisa Desisa             </td><td>Ethiopia     </td></tr>\n",
       "\t<tr><th scope=row>6</th><td>Mebrahtom \"Meb\" Keflezighi</td><td>United States</td></tr>\n",
       "</tbody>\n",
       "</table>\n"
      ],
      "text/latex": [
       "A data.frame: 6 × 2\n",
       "\\begin{tabular}{r|ll}\n",
       "  & name & country\\\\\n",
       "  & <chr> & <chr>\\\\\n",
       "\\hline\n",
       "\t1 & Lawrence Cherono           & Kenya        \\\\\n",
       "\t2 & Yuki Kawauchi              & Japan        \\\\\n",
       "\t3 & Geoffrey Kirui             & Kenya        \\\\\n",
       "\t4 & Lemi Berhanu               & Ethiopia     \\\\\n",
       "\t5 & Lelisa Desisa              & Ethiopia     \\\\\n",
       "\t6 & Mebrahtom \"Meb\" Keflezighi & United States\\\\\n",
       "\\end{tabular}\n"
      ],
      "text/markdown": [
       "\n",
       "A data.frame: 6 × 2\n",
       "\n",
       "| <!--/--> | name &lt;chr&gt; | country &lt;chr&gt; |\n",
       "|---|---|---|\n",
       "| 1 | Lawrence Cherono           | Kenya         |\n",
       "| 2 | Yuki Kawauchi              | Japan         |\n",
       "| 3 | Geoffrey Kirui             | Kenya         |\n",
       "| 4 | Lemi Berhanu               | Ethiopia      |\n",
       "| 5 | Lelisa Desisa              | Ethiopia      |\n",
       "| 6 | Mebrahtom \"Meb\" Keflezighi | United States |\n",
       "\n"
      ],
      "text/plain": [
       "  name                       country      \n",
       "1 Lawrence Cherono           Kenya        \n",
       "2 Yuki Kawauchi              Japan        \n",
       "3 Geoffrey Kirui             Kenya        \n",
       "4 Lemi Berhanu               Ethiopia     \n",
       "5 Lelisa Desisa              Ethiopia     \n",
       "6 Mebrahtom \"Meb\" Keflezighi United States"
      ]
     },
     "metadata": {},
     "output_type": "display_data"
    }
   ],
   "source": [
    "df.marathon %>%\n",
    "    select(name, country) %>%\n",
    "    head"
   ]
  },
  {
   "cell_type": "markdown",
   "metadata": {},
   "source": [
    "# Putting it all together"
   ]
  },
  {
   "cell_type": "markdown",
   "metadata": {},
   "source": [
    "Use `group_by`, `filter`, and `summarize` to show the best race times for US and Kenyan women runners. (*Hint: use the `%in%` operator to filter by two values for one column*). Fill in the missing pieces below:"
   ]
  },
  {
   "cell_type": "code",
   "execution_count": 12,
   "metadata": {},
   "outputs": [
    {
     "name": "stderr",
     "output_type": "stream",
     "text": [
      "`summarise()` ungrouping output (override with `.groups` argument)\n",
      "\n"
     ]
    },
    {
     "data": {
      "text/html": [
       "<table>\n",
       "<caption>A tibble: 2 × 2</caption>\n",
       "<thead>\n",
       "\t<tr><th scope=col>country</th><th scope=col>best.race.time</th></tr>\n",
       "\t<tr><th scope=col>&lt;chr&gt;</th><th scope=col>&lt;dbl&gt;</th></tr>\n",
       "</thead>\n",
       "<tbody>\n",
       "\t<tr><td>Kenya        </td><td>2.345278</td></tr>\n",
       "\t<tr><td>United States</td><td>2.378611</td></tr>\n",
       "</tbody>\n",
       "</table>\n"
      ],
      "text/latex": [
       "A tibble: 2 × 2\n",
       "\\begin{tabular}{ll}\n",
       " country & best.race.time\\\\\n",
       " <chr> & <dbl>\\\\\n",
       "\\hline\n",
       "\t Kenya         & 2.345278\\\\\n",
       "\t United States & 2.378611\\\\\n",
       "\\end{tabular}\n"
      ],
      "text/markdown": [
       "\n",
       "A tibble: 2 × 2\n",
       "\n",
       "| country &lt;chr&gt; | best.race.time &lt;dbl&gt; |\n",
       "|---|---|\n",
       "| Kenya         | 2.345278 |\n",
       "| United States | 2.378611 |\n",
       "\n"
      ],
      "text/plain": [
       "  country       best.race.time\n",
       "1 Kenya         2.345278      \n",
       "2 United States 2.378611      "
      ]
     },
     "metadata": {},
     "output_type": "display_data"
    }
   ],
   "source": [
    "df.marathon %>%\n",
    "    filter(MF == \"Women's\", country %in% c('United States', 'Kenya')) %>%\n",
    "    group_by(country) %>%\n",
    "    summarize(best.race.time = min(race.time))"
   ]
  },
  {
   "cell_type": "markdown",
   "metadata": {},
   "source": [
    "Use `filter`, `select`, `head`, and `arrange` to show the best women's race times in the data and the country of the runners. Fill in the missing pieces below:"
   ]
  },
  {
   "cell_type": "code",
   "execution_count": 15,
   "metadata": {},
   "outputs": [
    {
     "data": {
      "text/html": [
       "<table>\n",
       "<caption>A data.frame: 6 × 2</caption>\n",
       "<thead>\n",
       "\t<tr><th></th><th scope=col>race.time</th><th scope=col>country</th></tr>\n",
       "\t<tr><th></th><th scope=col>&lt;dbl&gt;</th><th scope=col>&lt;chr&gt;</th></tr>\n",
       "</thead>\n",
       "<tbody>\n",
       "\t<tr><th scope=row>1</th><td>2.333056</td><td>Ethiopia     </td></tr>\n",
       "\t<tr><th scope=row>2</th><td>2.345278</td><td>Kenya        </td></tr>\n",
       "\t<tr><th scope=row>3</th><td>2.362500</td><td>Germany      </td></tr>\n",
       "\t<tr><th scope=row>4</th><td>2.364444</td><td>Kenya        </td></tr>\n",
       "\t<tr><th scope=row>5</th><td>2.376667</td><td>Kenya        </td></tr>\n",
       "\t<tr><th scope=row>6</th><td>2.378611</td><td>United States</td></tr>\n",
       "</tbody>\n",
       "</table>\n"
      ],
      "text/latex": [
       "A data.frame: 6 × 2\n",
       "\\begin{tabular}{r|ll}\n",
       "  & race.time & country\\\\\n",
       "  & <dbl> & <chr>\\\\\n",
       "\\hline\n",
       "\t1 & 2.333056 & Ethiopia     \\\\\n",
       "\t2 & 2.345278 & Kenya        \\\\\n",
       "\t3 & 2.362500 & Germany      \\\\\n",
       "\t4 & 2.364444 & Kenya        \\\\\n",
       "\t5 & 2.376667 & Kenya        \\\\\n",
       "\t6 & 2.378611 & United States\\\\\n",
       "\\end{tabular}\n"
      ],
      "text/markdown": [
       "\n",
       "A data.frame: 6 × 2\n",
       "\n",
       "| <!--/--> | race.time &lt;dbl&gt; | country &lt;chr&gt; |\n",
       "|---|---|---|\n",
       "| 1 | 2.333056 | Ethiopia      |\n",
       "| 2 | 2.345278 | Kenya         |\n",
       "| 3 | 2.362500 | Germany       |\n",
       "| 4 | 2.364444 | Kenya         |\n",
       "| 5 | 2.376667 | Kenya         |\n",
       "| 6 | 2.378611 | United States |\n",
       "\n"
      ],
      "text/plain": [
       "  race.time country      \n",
       "1 2.333056  Ethiopia     \n",
       "2 2.345278  Kenya        \n",
       "3 2.362500  Germany      \n",
       "4 2.364444  Kenya        \n",
       "5 2.376667  Kenya        \n",
       "6 2.378611  United States"
      ]
     },
     "metadata": {},
     "output_type": "display_data"
    }
   ],
   "source": [
    "df.marathon %>%\n",
    "    filter(MF == \"Women's\") %>%\n",
    "    select(race.time, country) %>%\n",
    "    arrange(race.time) %>%\n",
    "    head()"
   ]
  },
  {
   "cell_type": "markdown",
   "metadata": {},
   "source": [
    "What's the best race time ever for a US man?"
   ]
  },
  {
   "cell_type": "code",
   "execution_count": 17,
   "metadata": {},
   "outputs": [
    {
     "data": {
      "text/html": [
       "<table>\n",
       "<caption>A data.frame: 1 × 7</caption>\n",
       "<thead>\n",
       "\t<tr><th></th><th scope=col>year</th><th scope=col>name</th><th scope=col>country</th><th scope=col>time</th><th scope=col>race.time</th><th scope=col>MF</th><th scope=col>country.simple</th></tr>\n",
       "\t<tr><th></th><th scope=col>&lt;int&gt;</th><th scope=col>&lt;chr&gt;</th><th scope=col>&lt;chr&gt;</th><th scope=col>&lt;chr&gt;</th><th scope=col>&lt;dbl&gt;</th><th scope=col>&lt;chr&gt;</th><th scope=col>&lt;chr&gt;</th></tr>\n",
       "</thead>\n",
       "<tbody>\n",
       "\t<tr><th scope=row>1</th><td>2014</td><td>Mebrahtom \"Meb\" Keflezighi</td><td>United States</td><td>2H 8M 37S</td><td>2.143611</td><td>Men's</td><td>United States</td></tr>\n",
       "</tbody>\n",
       "</table>\n"
      ],
      "text/latex": [
       "A data.frame: 1 × 7\n",
       "\\begin{tabular}{r|lllllll}\n",
       "  & year & name & country & time & race.time & MF & country.simple\\\\\n",
       "  & <int> & <chr> & <chr> & <chr> & <dbl> & <chr> & <chr>\\\\\n",
       "\\hline\n",
       "\t1 & 2014 & Mebrahtom \"Meb\" Keflezighi & United States & 2H 8M 37S & 2.143611 & Men's & United States\\\\\n",
       "\\end{tabular}\n"
      ],
      "text/markdown": [
       "\n",
       "A data.frame: 1 × 7\n",
       "\n",
       "| <!--/--> | year &lt;int&gt; | name &lt;chr&gt; | country &lt;chr&gt; | time &lt;chr&gt; | race.time &lt;dbl&gt; | MF &lt;chr&gt; | country.simple &lt;chr&gt; |\n",
       "|---|---|---|---|---|---|---|---|\n",
       "| 1 | 2014 | Mebrahtom \"Meb\" Keflezighi | United States | 2H 8M 37S | 2.143611 | Men's | United States |\n",
       "\n"
      ],
      "text/plain": [
       "  year name                       country       time      race.time MF   \n",
       "1 2014 Mebrahtom \"Meb\" Keflezighi United States 2H 8M 37S 2.143611  Men's\n",
       "  country.simple\n",
       "1 United States "
      ]
     },
     "metadata": {},
     "output_type": "display_data"
    }
   ],
   "source": [
    "df.marathon %>%\n",
    "    filter(MF == \"Men's\" & country == 'United States') %>%\n",
    "    arrange(race.time) %>%\n",
    "    head(1)"
   ]
  },
  {
   "cell_type": "markdown",
   "metadata": {},
   "source": [
    "How does the best US men's time compare the the best race time in the data overall?"
   ]
  },
  {
   "cell_type": "code",
   "execution_count": 20,
   "metadata": {},
   "outputs": [
    {
     "name": "stdout",
     "output_type": "stream",
     "text": [
      "  best_time\n",
      "1  2.050556\n",
      "  best_min_us_time\n",
      "1         2.143611\n"
     ]
    }
   ],
   "source": [
    "best_overall_time = df.marathon %>%\n",
    "    summarize(best_time = min(race.time))\n",
    "best_US_time = df.marathon %>%\n",
    "    filter(MF == \"Men's\" & country == 'United States') %>%\n",
    "    summarize(best_min_us_time = min(race.time))\n",
    "print(best_overall_time)\n",
    "print(best_US_time)"
   ]
  },
  {
   "cell_type": "markdown",
   "metadata": {},
   "source": [
    "# Bonus"
   ]
  },
  {
   "cell_type": "markdown",
   "metadata": {},
   "source": [
    "For all countries with at least 5 winners in the men's category, which country has the best median race time in the men's category? (*Hint: use the `n()` function to count the winners by country.) "
   ]
  },
  {
   "cell_type": "code",
   "execution_count": null,
   "metadata": {},
   "outputs": [],
   "source": [
    "# This should get you started. It adds a column \"N.winners\" that represents the\n",
    "# total winners from the runner's country.\n",
    "\n",
    "df.marathon %>%\n",
    "    filter(MF == \"Men's\") %>%\n",
    "    group_by(country) %>%\n",
    "    mutate(N.winners = n()) %>% #calculating number of winners by country\n",
    "    filter(N.winners >= 5) %>% #filtering rows or countries that have had at least 5 winners\n",
    "    summarize(country_median_time = median(race.time)) %>%\n",
    "    arrange(country_median_time) %>%\n",
    "    head(1)"
   ]
  },
  {
   "cell_type": "code",
   "execution_count": null,
   "metadata": {},
   "outputs": [],
   "source": []
  }
 ],
 "metadata": {
  "kernelspec": {
   "display_name": "R",
   "language": "R",
   "name": "ir"
  },
  "language_info": {
   "codemirror_mode": "r",
   "file_extension": ".r",
   "mimetype": "text/x-r-source",
   "name": "R",
   "pygments_lexer": "r",
   "version": "3.6.3"
  }
 },
 "nbformat": 4,
 "nbformat_minor": 4
}
